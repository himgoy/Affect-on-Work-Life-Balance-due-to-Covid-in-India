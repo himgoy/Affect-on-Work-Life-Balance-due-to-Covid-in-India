{
  "nbformat": 4,
  "nbformat_minor": 0,
  "metadata": {
    "colab": {
      "provenance": []
    },
    "kernelspec": {
      "name": "python3",
      "display_name": "Python 3"
    },
    "language_info": {
      "name": "python"
    }
  },
  "cells": [
    {
      "cell_type": "markdown",
      "metadata": {
        "id": "788CSdErz2zK"
      },
      "source": [
        "# **Getting All Tweets**\n"
      ]
    },
    {
      "cell_type": "code",
      "metadata": {
        "id": "UySLyE72MqUl"
      },
      "source": [
        "import pandas as pd\n",
        "pd.set_option('max_rows', 99999)\n",
        "pd.set_option('max_colwidth', 400)\n",
        "import re\n",
        "import numpy as np\n",
        "import matplotlib.pyplot as plt\n",
        "import nltk\n",
        "from nltk.util import ngrams\n",
        "from nltk.stem.snowball import SnowballStemmer, PorterStemmer\n",
        "from collections import Counter\n"
      ],
      "execution_count": null,
      "outputs": []
    },
    {
      "cell_type": "code",
      "metadata": {
        "colab": {
          "base_uri": "https://localhost:8080/",
          "height": 794
        },
        "id": "bap7LuMXNXFj",
        "outputId": "37de8c37-075a-4748-8b71-dea559f8fd6a"
      },
      "source": [
        "Global_Tweets = pd.read_csv('/content/drive/MyDrive/1 Work Life Balance/All_Tweet.csv')\n",
        "Global_Tweets.head()"
      ],
      "execution_count": null,
      "outputs": [
        {
          "output_type": "execute_result",
          "data": {
            "text/html": [
              "<div>\n",
              "<style scoped>\n",
              "    .dataframe tbody tr th:only-of-type {\n",
              "        vertical-align: middle;\n",
              "    }\n",
              "\n",
              "    .dataframe tbody tr th {\n",
              "        vertical-align: top;\n",
              "    }\n",
              "\n",
              "    .dataframe thead th {\n",
              "        text-align: right;\n",
              "    }\n",
              "</style>\n",
              "<table border=\"1\" class=\"dataframe\">\n",
              "  <thead>\n",
              "    <tr style=\"text-align: right;\">\n",
              "      <th></th>\n",
              "      <th>coordinates</th>\n",
              "      <th>created_at</th>\n",
              "      <th>hashtags</th>\n",
              "      <th>media</th>\n",
              "      <th>urls</th>\n",
              "      <th>favorite_count</th>\n",
              "      <th>id</th>\n",
              "      <th>in_reply_to_screen_name</th>\n",
              "      <th>in_reply_to_status_id</th>\n",
              "      <th>in_reply_to_user_id</th>\n",
              "      <th>lang</th>\n",
              "      <th>place</th>\n",
              "      <th>possibly_sensitive</th>\n",
              "      <th>quote_id</th>\n",
              "      <th>retweet_count</th>\n",
              "      <th>retweet_id</th>\n",
              "      <th>retweet_screen_name</th>\n",
              "      <th>source</th>\n",
              "      <th>text</th>\n",
              "      <th>tweet_url</th>\n",
              "      <th>user_created_at</th>\n",
              "      <th>user_id</th>\n",
              "      <th>user_default_profile_image</th>\n",
              "      <th>user_description</th>\n",
              "      <th>user_favourites_count</th>\n",
              "      <th>user_followers_count</th>\n",
              "      <th>user_friends_count</th>\n",
              "      <th>user_listed_count</th>\n",
              "      <th>user_location</th>\n",
              "      <th>user_name</th>\n",
              "      <th>user_screen_name</th>\n",
              "      <th>user_statuses_count</th>\n",
              "      <th>user_time_zone</th>\n",
              "      <th>user_urls</th>\n",
              "      <th>user_verified</th>\n",
              "    </tr>\n",
              "  </thead>\n",
              "  <tbody>\n",
              "    <tr>\n",
              "      <th>0</th>\n",
              "      <td>NaN</td>\n",
              "      <td>Thu May 07 18:21:32 +0000 2020</td>\n",
              "      <td>itsthelittlethings</td>\n",
              "      <td>NaN</td>\n",
              "      <td>NaN</td>\n",
              "      <td>5</td>\n",
              "      <td>1258461981989797900</td>\n",
              "      <td>NaN</td>\n",
              "      <td>NaN</td>\n",
              "      <td>NaN</td>\n",
              "      <td>en</td>\n",
              "      <td>Sprowston, England</td>\n",
              "      <td>NaN</td>\n",
              "      <td>NaN</td>\n",
              "      <td>0</td>\n",
              "      <td>NaN</td>\n",
              "      <td>NaN</td>\n",
              "      <td>&lt;a href=\"http://twitter.com/download/iphone\" rel=\"nofollow\"&gt;Twitter for iPhone&lt;/a&gt;</td>\n",
              "      <td>When you arrive home from work to a BBQ, a G&amp;amp;T and the sound of the swifts, life’s not all bad at the moment 😊 #itsthelittlethings</td>\n",
              "      <td>https://twitter.com/sarahlucy123/status/1258461981989797900</td>\n",
              "      <td>Tue Oct 20 19:59:57 +0000 2009</td>\n",
              "      <td>83914181</td>\n",
              "      <td>False</td>\n",
              "      <td>Mother, and then in no particular order: daughter, sister, nurse, football fan, cricket fan, birdwatcher, nature lover, friend 👩‍⚕️ ⚽️ 💛💚🏏 🦅 🦔 🦋</td>\n",
              "      <td>13324</td>\n",
              "      <td>407</td>\n",
              "      <td>613</td>\n",
              "      <td>3</td>\n",
              "      <td>Norwich, England</td>\n",
              "      <td>💛💚Sarah💚💛</td>\n",
              "      <td>sarahlucy123</td>\n",
              "      <td>5442</td>\n",
              "      <td>NaN</td>\n",
              "      <td>NaN</td>\n",
              "      <td>False</td>\n",
              "    </tr>\n",
              "    <tr>\n",
              "      <th>1</th>\n",
              "      <td>NaN</td>\n",
              "      <td>Mon May 04 19:51:24 +0000 2020</td>\n",
              "      <td>hometasking hometasking14</td>\n",
              "      <td>https://twitter.com/PayneTrain_MI/status/1257397436902932494/video/1</td>\n",
              "      <td>NaN</td>\n",
              "      <td>48</td>\n",
              "      <td>1257397436902932494</td>\n",
              "      <td>AlexHorne</td>\n",
              "      <td>1.257219e+18</td>\n",
              "      <td>2.019879e+07</td>\n",
              "      <td>en</td>\n",
              "      <td>NaN</td>\n",
              "      <td>False</td>\n",
              "      <td>NaN</td>\n",
              "      <td>7</td>\n",
              "      <td>NaN</td>\n",
              "      <td>NaN</td>\n",
              "      <td>&lt;a href=\"https://mobile.twitter.com\" rel=\"nofollow\"&gt;Twitter Web App&lt;/a&gt;</td>\n",
              "      <td>@AlexHorne @taskmaster The Payne family's attempt at #hometasking #hometasking14! Captain England does not put his pants(shorts) on one leg at a time like everyone else! https://t.co/kiTRUxXVvX</td>\n",
              "      <td>https://twitter.com/PayneTrain_MI/status/1257397436902932494</td>\n",
              "      <td>Wed Dec 04 20:38:25 +0000 2019</td>\n",
              "      <td>1202326258706722816</td>\n",
              "      <td>False</td>\n",
              "      <td>I'm just here to talk soccer ⚽️ &amp; make stupid videos.</td>\n",
              "      <td>1437</td>\n",
              "      <td>41</td>\n",
              "      <td>23</td>\n",
              "      <td>0</td>\n",
              "      <td>Michigan</td>\n",
              "      <td>PayneTrain (the Paynes)</td>\n",
              "      <td>PayneTrain_MI</td>\n",
              "      <td>227</td>\n",
              "      <td>NaN</td>\n",
              "      <td>NaN</td>\n",
              "      <td>False</td>\n",
              "    </tr>\n",
              "    <tr>\n",
              "      <th>2</th>\n",
              "      <td>NaN</td>\n",
              "      <td>Wed May 20 23:44:15 +0000 2020</td>\n",
              "      <td>NaN</td>\n",
              "      <td>NaN</td>\n",
              "      <td>https://www.brookings.edu/blog/up-front/2020/05/13/incomes-have-crashed-how-much-has-unemployment-insurance-helped/</td>\n",
              "      <td>42</td>\n",
              "      <td>1263254237838016515</td>\n",
              "      <td>RepDonBeyer</td>\n",
              "      <td>1.263254e+18</td>\n",
              "      <td>2.962868e+09</td>\n",
              "      <td>en</td>\n",
              "      <td>NaN</td>\n",
              "      <td>False</td>\n",
              "      <td>NaN</td>\n",
              "      <td>25</td>\n",
              "      <td>NaN</td>\n",
              "      <td>NaN</td>\n",
              "      <td>&lt;a href=\"https://mobile.twitter.com\" rel=\"nofollow\"&gt;Twitter Web App&lt;/a&gt;</td>\n",
              "      <td>The expanded unemployment benefits replaced an estimated half of Americans’ lost wages in April. https://t.co/IdLxTZKtMb\\n\\nRemoving that support while eliminating access to food, shelter, and health care would inflict untold suffering and could cause widespread civic unrest. 4/</td>\n",
              "      <td>https://twitter.com/RepDonBeyer/status/1263254237838016515</td>\n",
              "      <td>Mon Jan 05 22:09:04 +0000 2015</td>\n",
              "      <td>2962868158</td>\n",
              "      <td>False</td>\n",
              "      <td>Represent Northern Virginia’s #VA08 in the U.S. House. Chairman of @JECDems, also serve on @WaysMeansCmte @HouseScience. Co-Chair @CaucusOnClimate. He/Him/His</td>\n",
              "      <td>12015</td>\n",
              "      <td>107073</td>\n",
              "      <td>4656</td>\n",
              "      <td>1557</td>\n",
              "      <td>Northern Virginia &amp; DC</td>\n",
              "      <td>Rep. Don Beyer</td>\n",
              "      <td>RepDonBeyer</td>\n",
              "      <td>31261</td>\n",
              "      <td>NaN</td>\n",
              "      <td>http://beyer.house.gov</td>\n",
              "      <td>True</td>\n",
              "    </tr>\n",
              "    <tr>\n",
              "      <th>3</th>\n",
              "      <td>NaN</td>\n",
              "      <td>Mon May 04 23:15:04 +0000 2020</td>\n",
              "      <td>NaN</td>\n",
              "      <td>NaN</td>\n",
              "      <td>NaN</td>\n",
              "      <td>3</td>\n",
              "      <td>1257448688802201612</td>\n",
              "      <td>NaN</td>\n",
              "      <td>NaN</td>\n",
              "      <td>NaN</td>\n",
              "      <td>en</td>\n",
              "      <td>NaN</td>\n",
              "      <td>NaN</td>\n",
              "      <td>NaN</td>\n",
              "      <td>2</td>\n",
              "      <td>NaN</td>\n",
              "      <td>NaN</td>\n",
              "      <td>&lt;a href=\"http://twitter.com/download/iphone\" rel=\"nofollow\"&gt;Twitter for iPhone&lt;/a&gt;</td>\n",
              "      <td>My unemployment card need to hurry up and come 😭</td>\n",
              "      <td>https://twitter.com/_Darius7/status/1257448688802201612</td>\n",
              "      <td>Thu Jul 24 01:37:11 +0000 2014</td>\n",
              "      <td>2722396419</td>\n",
              "      <td>False</td>\n",
              "      <td>#Ravensflock #Rolltide #BlackLivesmatter Personal Trainer 🏋🏽‍♂️</td>\n",
              "      <td>69290</td>\n",
              "      <td>1494</td>\n",
              "      <td>1470</td>\n",
              "      <td>4</td>\n",
              "      <td>Baltimore, MD</td>\n",
              "      <td>Darius</td>\n",
              "      <td>_Darius7</td>\n",
              "      <td>77945</td>\n",
              "      <td>NaN</td>\n",
              "      <td>NaN</td>\n",
              "      <td>False</td>\n",
              "    </tr>\n",
              "    <tr>\n",
              "      <th>4</th>\n",
              "      <td>NaN</td>\n",
              "      <td>Thu Apr 30 21:50:40 +0000 2020</td>\n",
              "      <td>NaN</td>\n",
              "      <td>NaN</td>\n",
              "      <td>http://ow.ly/vtZ530qC9eg</td>\n",
              "      <td>23</td>\n",
              "      <td>1255977896981790723</td>\n",
              "      <td>NaN</td>\n",
              "      <td>NaN</td>\n",
              "      <td>NaN</td>\n",
              "      <td>en</td>\n",
              "      <td>NaN</td>\n",
              "      <td>False</td>\n",
              "      <td>NaN</td>\n",
              "      <td>8</td>\n",
              "      <td>NaN</td>\n",
              "      <td>NaN</td>\n",
              "      <td>&lt;a href=\"https://www.hootsuite.com\" rel=\"nofollow\"&gt;Hootsuite Inc.&lt;/a&gt;</td>\n",
              "      <td>Check out this short video by my daughter Alison, who'd love to help you begin homeschooling your child this fall. Join her online workshop for more information on Monday. Here's her video: https://t.co/pF0DeuPNvl</td>\n",
              "      <td>https://twitter.com/LeeStrobel/status/1255977896981790723</td>\n",
              "      <td>Wed Dec 01 22:43:45 +0000 2010</td>\n",
              "      <td>221898261</td>\n",
              "      <td>False</td>\n",
              "      <td>Follower of Jesus. Author of 40+ books, including Case for Christ &amp; Case for Heaven. Leader of Center for Evangelism &amp; Applied Apologetics at Colorado Ch’n U.</td>\n",
              "      <td>9519</td>\n",
              "      <td>234891</td>\n",
              "      <td>7935</td>\n",
              "      <td>2236</td>\n",
              "      <td>United States</td>\n",
              "      <td>Lee Strobel</td>\n",
              "      <td>LeeStrobel</td>\n",
              "      <td>26652</td>\n",
              "      <td>NaN</td>\n",
              "      <td>NaN</td>\n",
              "      <td>True</td>\n",
              "    </tr>\n",
              "  </tbody>\n",
              "</table>\n",
              "</div>"
            ],
            "text/plain": [
              "  coordinates  ... user_verified\n",
              "0         NaN  ...         False\n",
              "1         NaN  ...         False\n",
              "2         NaN  ...          True\n",
              "3         NaN  ...         False\n",
              "4         NaN  ...          True\n",
              "\n",
              "[5 rows x 35 columns]"
            ]
          },
          "metadata": {},
          "execution_count": 2
        }
      ]
    },
    {
      "cell_type": "markdown",
      "metadata": {
        "id": "We68Fdc70Hfp"
      },
      "source": [
        "## **Getting Indian Tweets**"
      ]
    },
    {
      "cell_type": "code",
      "metadata": {
        "colab": {
          "base_uri": "https://localhost:8080/"
        },
        "id": "wL9gHgyQNXfT",
        "outputId": "8cb0b223-b1b9-450c-f69b-c0cd34de4eb6"
      },
      "source": [
        "Indian_Tweets = Global_Tweets[Global_Tweets.place.str.contains('India|Bharat|Delhi|Mumbai|Abohar |Achalpur |Adilabad |Adityapur |Adoni |Agartala |Agra |Ahmedabad |Ahmadnagar |Aizawl |Ajmer |Akbarpur |Akola |Alandur |Alappuzha |Aligarh |Allahabad |Alwar |Ambala |Ambala Sadar |Ambarnath |Ambattur |Ambikapur |Ambur |Amravati |Amreli |Amritsar |Amroha |Anand |Anantapur |Anantnag |Arrah |Asansol |Ashoknagar Kalyangarh |Aurangabad |Aurangabad |Avadi |Azamgarh |Badlapur |Bagaha |Bagalkot |Bahadurgarh |Baharampur |Bahraich |Baidyabati |Baleshwar Town |Ballia |Bally |Bally City|Balurghat |Banda |Bankura |Bansberia |Banswara |Baran |Baranagar |Barasat |Baraut |Barddhaman |Bareilly |Baripada Town |Barnala |Barrackpur |Barshi |Basirhat |Basti |Batala |Bathinda |Beawar |Begusarai |Belgaum |Bellary |Bengaluru|Bettiah |Betul |Bhadrak |Bhadravati |Bhadreswar |Bhagalpur |Bhalswa Jahangir Pur |Bharatpur |Bharuch |Bhatpara |Bhavnagar |Bhilai Nagar |Bhilwara |Bhimavaram |Bhind |Bhiwadi |Bhiwandi |Bhiwani |Bhopal |Bhubaneswar Town |Bhuj |Bhusawal |Bid |Bidar |Bidhan Nagar |Biharsharif |Bijapur |Bikaner |Bilaspur |Bokaro Steel City |Bongaon |Botad |Brahmapur Town |Budaun |Bulandshahr |Bundi |Burari |Burhanpur |Buxar |Champdani |Chandannagar |Chandausi |Chandigarh |Chandrapur |Chapra |Chas |Chennai |Chhattarpur |Chhindwara |Chikmagalur |Chilakaluripet |Chitradurga |Chittaurgarh |Chittoor |Churu |Coimbatore |Cuddalore |Cuttack |Dabgram |Dallo Pura |Damoh |Darbhanga |Darjiling |Datia |Delhi |Davanagere |Deesa |Dehradun |Dehri |Delhi |Delhi Cantonment |Deoghar |Deoli |Deoria |Dewas |Dhanbad |Dharmavaram |Dhaulpur |Dhule |Dibrugarh |Dimapur |Dinapur Nizamat |Dindigul |Dum Dum |Durg |Durgapur |Eluru |English Bazar |Erode |Etah |Etawah |Faizabad |Faridabad |Farrukhabad-cum-Fatehgarh |Fatehpur |Firozabad |Firozpur |Gadag-Betigeri |Gandhidham |Gandhinagar |Ganganagar |Gangapur City |Gangawati |Gaya |Ghazipur |Giridih |Godhra |Gokal Pur |Gonda |Gondal |Gondiya |Gorakhpur |Hyderabad |Mumbai |Greater Noida |Noida|Gudivada |Gulbarga |Guna |Guntakal |Guntur |Gurgaon |Guwahati |Gwalior |Habra |Hajipur |Haldia |Haldwani-cum-Kathgodam |Halisahar |Hanumangarh |Haora |Hapur |Hardoi |Hardwar |Hassan |Hastsal |Hathras |Hazaribag |Hindaun |Hindupur |Hinganghat |Hisar |Hoshangabad |Hoshiarpur |Hospet |Hosur |Hubli-Dharwad |Hugli-Chinsurah |Ichalkaranji |Imphal |Indore |Jabalpur |Jagadhri |Jagdalpur |Jaipur |Jalandhar |Jalgaon |Jalna |Jalpaiguri |Jamalpur |Jammu |Jamnagar |Jamshedpur |Jamuria |Jaunpur |Jehanabad |Jetpur Navagadh |Jhansi |Jhunjhunun |Jind |Jodhpur |Junagadh |Kadapa |Kaithal |Kakinada |Kalol |Kalyani |Kamarhati |Kancheepuram |Kanchrapara |Kanpur |Kanpur City|Karaikkudi |Karawal Nagar |Karimnagar |Karnal |Kasganj |Kashipur |Katihar |Khammam |Khandwa |Khanna |Kharagpur |Khardaha |Khargone |Khora |Khurja |Kirari Suleman Nagar |Kishanganj |Kishangarh |Kochi |Kolar |Kolhapur |Kolkata |Kollam |Korba |Kota |Kozhikode |Krishnanagar |Kulti |Kumbakonam |Kurichi |Kurnool |Lakhimpur |Lalitpur |Latur |Loni |Lucknow |Ludhiana |Machilipatnam |Madanapalle |Madavaram |Madhyamgram |Madurai |Mahbubnagar |Mahesana |Maheshtala |Mainpuri |Malegaon |Malerkotla |Mandoli |Mandsaur |Mandya |Mangalore |Mango |Mathura |Maunath Bhanjan |Medinipur |Meerut |Mira Bhayander |Miryalaguda |Mirzapur-cum-Vindhyachal |Modinagar |Moga |Moradabad |Morena |Morvi |Motihari |Mughalsarai |Muktsar |Munger |Murwara |Mustafabad |Muzaffarnagar |Muzaffarpur |Mysore |Nabadwip |Nadiad |Nagaon |Nagapattinam |Nagaur |Nagda |Nagercoil |Nagpur |Naihati |Nalgonda |Nanded Waghala |Nandurbar |Nandyal |Nangloi Jat |Narasaraopet |Nashik |Navi Mumbai |Navi Mumbai Panvel Raigarh |Navsari |Neemuch |Nellore |New Delhi |Neyveli |Nizamabad |Noida |North Barrackpur |North Dum Dum |Ongole |Orai |Osmanabad |Ozhukarai |Palakkad |Palanpur |Pali |Pallavaram |Palwal |Panchkula |Panihati |Panipat |Panvel |Parbhani |Patan |Pathankot |Patiala |Patna |Pilibhit |Pimpri Chinchwad |Pithampur |Porbandar |Port Blair |Proddatur |Puducherry |Pudukkottai |Pune |Puri |Purnia |Puruliya |Rae Bareli |Raichur |Raiganj |Raigarh |Raipur |Rajahmundry |Rajapalayam |Rajarhat Gopalpur |Rajkot |Rajnandgaon |Rajpur Sonarpur |Ramagundam |Rampur |Ranchi |Ranibennur |Raniganj |Ratlam |Raurkela Industrial Township |Raurkela Town |Rewa |Rewari |Rishra |Robertson Pet |Rohtak |Roorkee |Rudrapur |S.A.S. Nagar |Sagar |Saharanpur |Saharsa |Salem |Sambalpur |Sambhal |Sangli Miraj Kupwad |Santipur |Sasaram |Satara |Satna |Sawai Madhopur |Secunderabad |Sehore |Seoni |Serampore |Shahjahanpur |Shamli |Shikohabad |Shillong |Shimla |Shimoga |Shivpuri |Sikar |Silchar |Siliguri |Singrauli |Sirsa |Sitapur |Siwan |Solapur |Sonipat |South Dum Dum |Srikakulam |Srinagar |Sujangarh |Sultan Pur Majra |Sultanpur |Surat |Surendranagar Dudhrej |Suryapet |Tadepalligudem |Tadpatri |Tambaram |Tenali |Thane |Thanesar |Thanjavur |Thiruvananthapuram |Thoothukkudi |Thrissur |Tiruchirappalli |Tirunelveli |Tirupati |Tiruppur |Tiruvannamalai |Tiruvottiyur |Titagarh |Tonk |Tumkur |Udaipur |Udgir |Udupi |Ujjain |Ulhasnagar |Uluberia |Unnao |Uttarpara Kotrung |Vadodara |Valsad |Varanasi |Vasai Virar City |Vellore |Veraval |Vidisha |Vijayawada |Visakhapatnam|Vizianagaram |Warangal |Wardha |Yamunanagar |Yavatmal',na=False) | \n",
        "                              Global_Tweets.user_location.str.contains('India|Bharat|Delhi|Mumbai|Abohar |Achalpur |Adilabad|Noida |Adityapur |Adoni |Agartala |Agra |Ahmedabad |Ahmadnagar |Aizawl |Ajmer |Akbarpur |Akola |Alandur |Alappuzha |Aligarh |Allahabad |Alwar |Ambala |Ambala Sadar |Ambarnath |Ambattur |Ambikapur |Ambur |Amravati |Amreli |Amritsar |Amroha |Anand |Anantapur |Anantnag |Arrah |Asansol |Ashoknagar Kalyangarh |Aurangabad |Aurangabad |Avadi |Azamgarh |Badlapur |Bagaha |Bagalkot |Bahadurgarh |Baharampur |Bahraich |Baidyabati |Baleshwar Town |Ballia |Bally |Bally City|Balurghat |Banda |Bankura |Bansberia |Banswara |Baran |Baranagar |Barasat |Baraut |Barddhaman |Bareilly |Baripada Town |Barnala |Barrackpur |Barshi |Basirhat |Basti |Batala |Bathinda |Beawar |Begusarai |Belgaum |Bellary |Bengaluru|Bettiah |Betul |Bhadrak |Bhadravati |Bhadreswar |Bhagalpur |Bhalswa Jahangir Pur |Bharatpur |Bharuch |Bhatpara |Bhavnagar |Bhilai Nagar |Bhilwara |Bhimavaram |Bhind |Bhiwadi |Bhiwandi |Bhiwani |Bhopal |Bhubaneswar Town |Bhuj |Bhusawal |Bid |Bidar |Bidhan Nagar |Biharsharif |Bijapur |Bikaner |Bilaspur |Bokaro Steel City |Bongaon |Botad |Brahmapur Town |Budaun |Bulandshahr |Bundi |Burari |Burhanpur |Buxar |Champdani |Chandannagar |Chandausi |Chandigarh |Chandrapur |Chapra |Chas |Chennai |Chhattarpur |Chhindwara |Chikmagalur |Chilakaluripet |Chitradurga |Chittaurgarh |Chittoor |Churu |Coimbatore |Cuddalore |Cuttack |Dabgram |Dallo Pura |Damoh |Darbhanga |Darjiling |Datia |Davanagere |Deesa |Dehradun |Dehri |Delhi |Delhi Cantonment |Deoghar |Deoli |Deoria |Dewas |Dhanbad |Dharmavaram |Dhaulpur |Dhule |Dibrugarh |Dimapur |Dinapur Nizamat |Dindigul |Dum Dum |Durg |Durgapur |Eluru |English Bazar |Erode |Etah |Etawah |Faizabad |Faridabad |Farrukhabad-cum-Fatehgarh |Fatehpur |Firozabad |Firozpur |Gadag-Betigeri |Gandhidham |Gandhinagar |Ganganagar |Gangapur City |Gangawati |Gaya |Ghazipur |Giridih |Godhra |Gokal Pur |Gonda |Gondal |Gondiya |Gorakhpur |Greater Hyderabad |Greater Mumbai |Greater Noida |Gudivada |Gulbarga |Guna |Guntakal |Guntur |Gurgaon |Guwahati |Gwalior |Habra |Hajipur |Haldia |Haldwani-cum-Kathgodam |Halisahar |Hanumangarh |Haora |Hapur |Hardoi |Hardwar |Hassan |Hastsal |Hathras |Hazaribag |Hindaun |Hindupur |Hinganghat |Hisar |Hoshangabad |Hoshiarpur |Hospet |Hosur |Hubli-Dharwad |Hugli-Chinsurah |Ichalkaranji |Imphal |Indore |Jabalpur |Jagadhri |Jagdalpur |Jaipur |Jalandhar |Jalgaon |Jalna |Jalpaiguri |Jamalpur |Jammu |Jamnagar |Jamshedpur |Jamuria |Jaunpur |Jehanabad |Jetpur Navagadh |Jhansi |Jhunjhunun |Jind |Jodhpur |Junagadh |Kadapa |Kaithal |Kakinada |Kalol |Kalyani |Kamarhati |Kancheepuram |Kanchrapara |Kanpur |Kanpur City|Karaikkudi |Karawal Nagar |Karimnagar |Karnal |Kasganj |Kashipur |Katihar |Khammam |Khandwa |Khanna |Kharagpur |Khardaha |Khargone |Khora |Khurja |Kirari Suleman Nagar |Kishanganj |Kishangarh |Kochi |Kolar |Kolhapur |Kolkata |Kollam |Korba |Kota |Kozhikode |Krishnanagar |Kulti |Kumbakonam |Kurichi |Kurnool |Lakhimpur |Lalitpur |Latur |Loni |Lucknow |Ludhiana |Machilipatnam |Madanapalle |Madavaram |Madhyamgram |Madurai |Mahbubnagar |Mahesana |Maheshtala |Mainpuri |Malegaon |Malerkotla |Mandoli |Mandsaur |Mandya |Mangalore |Mango |Mathura |Maunath Bhanjan |Medinipur |Meerut |Mira Bhayander |Miryalaguda |Mirzapur-cum-Vindhyachal |Modinagar |Moga |Moradabad |Morena |Morvi |Motihari |Mughalsarai |Muktsar |Munger |Murwara |Mustafabad |Muzaffarnagar |Muzaffarpur |Mysore |Nabadwip |Nadiad |Nagaon |Nagapattinam |Nagaur |Nagda |Nagercoil |Nagpur |Naihati |Nalgonda |Nanded Waghala |Nandurbar |Nandyal |Nangloi Jat |Narasaraopet |Nashik |Navi Mumbai |Navi Mumbai Panvel Raigarh |Navsari |Neemuch |Nellore |New Delhi |Neyveli |Nizamabad |Noida |North Barrackpur |North Dum Dum |Ongole |Orai |Osmanabad |Ozhukarai |Palakkad |Palanpur |Pali |Pallavaram |Palwal |Panchkula |Panihati |Panipat |Panvel |Parbhani |Patan |Pathankot |Patiala |Patna |Pilibhit |Pimpri Chinchwad |Pithampur |Porbandar |Port Blair |Proddatur |Puducherry |Pudukkottai |Pune |Puri |Purnia |Puruliya |Rae Bareli |Raichur |Raiganj |Raigarh |Raipur |Rajahmundry |Rajapalayam |Rajarhat Gopalpur |Rajkot |Rajnandgaon |Rajpur Sonarpur |Ramagundam |Rampur |Ranchi |Ranibennur |Raniganj |Ratlam |Raurkela Industrial Township |Raurkela Town |Rewa |Rewari |Rishra |Robertson Pet |Rohtak |Roorkee |Rudrapur |S.A.S. Nagar |Sagar |Saharanpur |Saharsa |Salem |Sambalpur |Sambhal |Sangli Miraj Kupwad |Santipur |Sasaram |Satara |Satna |Sawai Madhopur |Secunderabad |Sehore |Seoni |Serampore |Shahjahanpur |Shamli |Shikohabad |Shillong |Shimla |Shimoga |Shivpuri |Sikar |Silchar |Siliguri |Singrauli |Sirsa |Sitapur |Siwan |Solapur |Sonipat |South Dum Dum |Srikakulam |Srinagar |Sujangarh |Sultan Pur Majra |Sultanpur |Surat |Surendranagar Dudhrej |Suryapet |Tadepalligudem |Tadpatri |Tambaram |Tenali |Thane |Thanesar |Thanjavur |Thiruvananthapuram |Thoothukkudi |Thrissur |Tiruchirappalli |Tirunelveli |Tirupati |Tiruppur |Tiruvannamalai |Tiruvottiyur |Titagarh |Tonk |Tumkur |Udaipur |Udgir |Udupi |Ujjain |Ulhasnagar |Uluberia |Unnao |Uttarpara Kotrung |Vadodara |Valsad |Varanasi |Vasai Virar City |Vellore |Veraval |Vidisha |Vijayawada |Visakhapatnam|Vizianagaram |Warangal |Wardha |Yamunanagar |Yavatmal',na=False)]\n",
        "print(Indian_Tweets.shape)\n",
        "Tweets_with_no_location = Global_Tweets[Global_Tweets['place'].isnull() & Global_Tweets['user_location'].isnull()]\n",
        "\n",
        "Tweets_with_no_location = Tweets_with_no_location[Tweets_with_no_location.text.str.contains('India|Delhi|Mumbai|India|Bharat|Delhi|Mumbai|Abohar |Achalpur |Adilabad |Adityapur |Adoni |Agartala |Agra |Ahmedabad |Ahmadnagar |Aizawl |Ajmer |Akbarpur |Akola |Alandur |Alappuzha |Aligarh |Allahabad |Alwar |Ambala |Ambala Sadar |Ambarnath |Ambattur |Ambikapur |Ambur |Amravati |Amreli |Amritsar |Amroha |Anand |Anantapur |Anantnag |Arrah |Asansol |Ashoknagar Kalyangarh |Aurangabad |Aurangabad |Avadi |Azamgarh |Badlapur |Bagaha |Bagalkot |Bahadurgarh |Baharampur |Bahraich |Baidyabati |Baleshwar Town |Ballia |Bally |Bally City|Balurghat |Banda |Bankura |Bansberia |Banswara |Baran |Baranagar |Barasat |Baraut |Barddhaman |Bareilly |Baripada Town |Barnala |Barrackpur |Barshi |Basirhat |Basti |Batala |Bathinda |Beawar |Begusarai |Belgaum |Bellary |Bengaluru|Bettiah |Betul |Bhadrak |Bhadravati |Bhadreswar |Bhagalpur |Bhalswa Jahangir Pur |Bharatpur |Bharuch |Bhatpara |Bhavnagar |Bhilai Nagar |Bhilwara |Bhimavaram |Bhind |Bhiwadi |Bhiwandi |Bhiwani |Bhopal |Bhubaneswar Town |Bhuj |Bhusawal |Bid |Bidar |Bidhan Nagar |Biharsharif |Bijapur |Bikaner |Bilaspur |Bokaro Steel City |Bongaon |Botad |Brahmapur Town |Budaun |Bulandshahr |Bundi |Burari |Burhanpur |Buxar |Champdani |Chandannagar |Chandausi |Chandigarh |Chandrapur |Chapra |Chas |Chennai |Chhattarpur |Chhindwara |Chikmagalur |Chilakaluripet |Chitradurga |Chittaurgarh |Chittoor |Churu |Coimbatore |Cuddalore |Cuttack |Dabgram |Dallo Pura |Damoh |Darbhanga |Darjiling |Datia |Delhi |Davanagere |Deesa |Dehradun |Dehri |Delhi |Delhi Cantonment |Deoghar |Deoli |Deoria |Dewas |Dhanbad |Dharmavaram |Dhaulpur |Dhule |Dibrugarh |Dimapur |Dinapur Nizamat |Dindigul |Dum Dum |Durg |Durgapur |Eluru |English Bazar |Erode |Etah |Etawah |Faizabad |Faridabad |Farrukhabad-cum-Fatehgarh |Fatehpur |Firozabad |Firozpur |Gadag-Betigeri |Gandhidham |Gandhinagar |Ganganagar |Gangapur City |Gangawati |Gaya |Ghazipur |Giridih |Godhra |Gokal Pur |Gonda |Gondal |Gondiya |Gorakhpur |Hyderabad |Mumbai |Greater Noida |Noida|Gudivada |Gulbarga |Guna |Guntakal |Guntur |Gurgaon |Guwahati |Gwalior |Habra |Hajipur |Haldia |Haldwani-cum-Kathgodam |Halisahar |Hanumangarh |Haora |Hapur |Hardoi |Hardwar |Hassan |Hastsal |Hathras |Hazaribag |Hindaun |Hindupur |Hinganghat |Hisar |Hoshangabad |Hoshiarpur |Hospet |Hosur |Hubli-Dharwad |Hugli-Chinsurah |Ichalkaranji |Imphal |Indore |Jabalpur |Jagadhri |Jagdalpur |Jaipur |Jalandhar |Jalgaon |Jalna |Jalpaiguri |Jamalpur |Jammu |Jamnagar |Jamshedpur |Jamuria |Jaunpur |Jehanabad |Jetpur Navagadh |Jhansi |Jhunjhunun |Jind |Jodhpur |Junagadh |Kadapa |Kaithal |Kakinada |Kalol |Kalyani |Kamarhati |Kancheepuram |Kanchrapara |Kanpur |Kanpur City|Karaikkudi |Karawal Nagar |Karimnagar |Karnal |Kasganj |Kashipur |Katihar |Khammam |Khandwa |Khanna |Kharagpur |Khardaha |Khargone |Khora |Khurja |Kirari Suleman Nagar |Kishanganj |Kishangarh |Kochi |Kolar |Kolhapur |Kolkata |Kollam |Korba |Kota |Kozhikode |Krishnanagar |Kulti |Kumbakonam |Kurichi |Kurnool |Lakhimpur |Lalitpur |Latur |Loni |Lucknow |Ludhiana |Machilipatnam |Madanapalle |Madavaram |Madhyamgram |Madurai |Mahbubnagar |Mahesana |Maheshtala |Mainpuri |Malegaon |Malerkotla |Mandoli |Mandsaur |Mandya |Mangalore |Mango |Mathura |Maunath Bhanjan |Medinipur |Meerut |Mira Bhayander |Miryalaguda |Mirzapur-cum-Vindhyachal |Modinagar |Moga |Moradabad |Morena |Morvi |Motihari |Mughalsarai |Muktsar |Munger |Murwara |Mustafabad |Muzaffarnagar |Muzaffarpur |Mysore |Nabadwip |Nadiad |Nagaon |Nagapattinam |Nagaur |Nagda |Nagercoil |Nagpur |Naihati |Nalgonda |Nanded Waghala |Nandurbar |Nandyal |Nangloi Jat |Narasaraopet |Nashik |Navi Mumbai |Navi Mumbai Panvel Raigarh |Navsari |Neemuch |Nellore |New Delhi |Neyveli |Nizamabad |Noida |North Barrackpur |North Dum Dum |Ongole |Orai |Osmanabad |Ozhukarai |Palakkad |Palanpur |Pali |Pallavaram |Palwal |Panchkula |Panihati |Panipat |Panvel |Parbhani |Patan |Pathankot |Patiala |Patna |Pilibhit |Pimpri Chinchwad |Pithampur |Porbandar |Port Blair |Proddatur |Puducherry |Pudukkottai |Pune |Puri |Purnia |Puruliya |Rae Bareli |Raichur |Raiganj |Raigarh |Raipur |Rajahmundry |Rajapalayam |Rajarhat Gopalpur |Rajkot |Rajnandgaon |Rajpur Sonarpur |Ramagundam |Rampur |Ranchi |Ranibennur |Raniganj |Ratlam |Raurkela Industrial Township |Raurkela Town |Rewa |Rewari |Rishra |Robertson Pet |Rohtak |Roorkee |Rudrapur |S.A.S. Nagar |Sagar |Saharanpur |Saharsa |Salem |Sambalpur |Sambhal |Sangli Miraj Kupwad |Santipur |Sasaram |Satara |Satna |Sawai Madhopur |Secunderabad |Sehore |Seoni |Serampore |Shahjahanpur |Shamli |Shikohabad |Shillong |Shimla |Shimoga |Shivpuri |Sikar |Silchar |Siliguri |Singrauli |Sirsa |Sitapur |Siwan |Solapur |Sonipat |South Dum Dum |Srikakulam |Srinagar |Sujangarh |Sultan Pur Majra |Sultanpur |Surat |Surendranagar Dudhrej |Suryapet |Tadepalligudem |Tadpatri |Tambaram |Tenali |Thane |Thanesar |Thanjavur |Thiruvananthapuram |Thoothukkudi |Thrissur |Tiruchirappalli |Tirunelveli |Tirupati |Tiruppur |Tiruvannamalai |Tiruvottiyur |Titagarh |Tonk |Tumkur |Udaipur |Udgir |Udupi |Ujjain |Ulhasnagar |Uluberia |Unnao |Uttarpara Kotrung |Vadodara |Valsad |Varanasi |Vasai Virar City |Vellore |Veraval |Vidisha |Vijayawada |Visakhapatnam|Vizianagaram |Warangal |Wardha |Yamunanagar |Yavatmal')]\n",
        "print(Tweets_with_no_location.shape)\n",
        "# Tweets_with_no_location.head()"
      ],
      "execution_count": null,
      "outputs": [
        {
          "output_type": "stream",
          "name": "stdout",
          "text": [
            "(8215, 35)\n",
            "(1067, 35)\n"
          ]
        }
      ]
    },
    {
      "cell_type": "code",
      "metadata": {
        "colab": {
          "base_uri": "https://localhost:8080/",
          "height": 1000
        },
        "id": "qmDqPGZnKaGj",
        "outputId": "736f818c-3ca4-40e7-a6f6-388c715e2029"
      },
      "source": [
        "All_Indian_tweets = pd.concat([Indian_Tweets,Tweets_with_no_location])\n",
        "All_Indian_tweets.head()"
      ],
      "execution_count": null,
      "outputs": [
        {
          "output_type": "execute_result",
          "data": {
            "text/html": [
              "<div>\n",
              "<style scoped>\n",
              "    .dataframe tbody tr th:only-of-type {\n",
              "        vertical-align: middle;\n",
              "    }\n",
              "\n",
              "    .dataframe tbody tr th {\n",
              "        vertical-align: top;\n",
              "    }\n",
              "\n",
              "    .dataframe thead th {\n",
              "        text-align: right;\n",
              "    }\n",
              "</style>\n",
              "<table border=\"1\" class=\"dataframe\">\n",
              "  <thead>\n",
              "    <tr style=\"text-align: right;\">\n",
              "      <th></th>\n",
              "      <th>coordinates</th>\n",
              "      <th>created_at</th>\n",
              "      <th>hashtags</th>\n",
              "      <th>media</th>\n",
              "      <th>urls</th>\n",
              "      <th>favorite_count</th>\n",
              "      <th>id</th>\n",
              "      <th>in_reply_to_screen_name</th>\n",
              "      <th>in_reply_to_status_id</th>\n",
              "      <th>in_reply_to_user_id</th>\n",
              "      <th>lang</th>\n",
              "      <th>place</th>\n",
              "      <th>possibly_sensitive</th>\n",
              "      <th>quote_id</th>\n",
              "      <th>retweet_count</th>\n",
              "      <th>retweet_id</th>\n",
              "      <th>retweet_screen_name</th>\n",
              "      <th>source</th>\n",
              "      <th>text</th>\n",
              "      <th>tweet_url</th>\n",
              "      <th>user_created_at</th>\n",
              "      <th>user_id</th>\n",
              "      <th>user_default_profile_image</th>\n",
              "      <th>user_description</th>\n",
              "      <th>user_favourites_count</th>\n",
              "      <th>user_followers_count</th>\n",
              "      <th>user_friends_count</th>\n",
              "      <th>user_listed_count</th>\n",
              "      <th>user_location</th>\n",
              "      <th>user_name</th>\n",
              "      <th>user_screen_name</th>\n",
              "      <th>user_statuses_count</th>\n",
              "      <th>user_time_zone</th>\n",
              "      <th>user_urls</th>\n",
              "      <th>user_verified</th>\n",
              "    </tr>\n",
              "  </thead>\n",
              "  <tbody>\n",
              "    <tr>\n",
              "      <th>5</th>\n",
              "      <td>NaN</td>\n",
              "      <td>Thu Jul 02 18:35:44 +0000 2020</td>\n",
              "      <td>NaN</td>\n",
              "      <td>NaN</td>\n",
              "      <td>https://twitter.com/i_amfreak/status/1270968260373041152</td>\n",
              "      <td>1</td>\n",
              "      <td>1278759277985796096</td>\n",
              "      <td>TheOfficialSBI</td>\n",
              "      <td>NaN</td>\n",
              "      <td>2.251589e+09</td>\n",
              "      <td>en</td>\n",
              "      <td>Kanpur, India</td>\n",
              "      <td>False</td>\n",
              "      <td>1.270968e+18</td>\n",
              "      <td>0</td>\n",
              "      <td>NaN</td>\n",
              "      <td>NaN</td>\n",
              "      <td>&lt;a href=\"http://twitter.com/download/android\" rel=\"nofollow\"&gt;Twitter for Android&lt;/a&gt;</td>\n",
              "      <td>@TheOfficialSBI Actually I am still waiting for your response. Is the official one is as same as the branch for which I had complained? It took them only 10 seconds to sent me home back to back 3 times. Will you do anything @TheOfficialSBI ? https://t.co/PfRsRduC9U</td>\n",
              "      <td>https://twitter.com/i_amfreak/status/1278759277985796096</td>\n",
              "      <td>Tue Oct 31 19:42:03 +0000 2017</td>\n",
              "      <td>925447795716296705</td>\n",
              "      <td>False</td>\n",
              "      <td>Crypto Quiz answers/Events/News - https://t.co/G2oSe3Zb75, https://t.co/H3bj1itXdF</td>\n",
              "      <td>671</td>\n",
              "      <td>99</td>\n",
              "      <td>198</td>\n",
              "      <td>1</td>\n",
              "      <td>India</td>\n",
              "      <td>Shray Garg</td>\n",
              "      <td>i_amfreak</td>\n",
              "      <td>224</td>\n",
              "      <td>NaN</td>\n",
              "      <td>https://www.linkedin.com/in/shraygarg</td>\n",
              "      <td>False</td>\n",
              "    </tr>\n",
              "    <tr>\n",
              "      <th>8</th>\n",
              "      <td>NaN</td>\n",
              "      <td>Sat Apr 04 12:25:36 +0000 2020</td>\n",
              "      <td>work WorkFromHome SafeAtHome web webdesigner Webdesign webdeveloper tech webinar WebsiteCost website design company India top Guide Digital digitalart digitalmarketing Motivation MotivationalQuotes</td>\n",
              "      <td>https://twitter.com/webdesi27166979/status/1246413611209293825/photo/1</td>\n",
              "      <td>NaN</td>\n",
              "      <td>4</td>\n",
              "      <td>1246413611209293825</td>\n",
              "      <td>NaN</td>\n",
              "      <td>NaN</td>\n",
              "      <td>NaN</td>\n",
              "      <td>en</td>\n",
              "      <td>India</td>\n",
              "      <td>False</td>\n",
              "      <td>NaN</td>\n",
              "      <td>2</td>\n",
              "      <td>NaN</td>\n",
              "      <td>NaN</td>\n",
              "      <td>&lt;a href=\"http://twitter.com/download/android\" rel=\"nofollow\"&gt;Twitter for Android&lt;/a&gt;</td>\n",
              "      <td>Hello world! Stay home save lives 💕💕\\n#work #WorkFromHome  #SafeAtHome #web #webdesigner #Webdesign #webdeveloper #tech #webinar #WebsiteCost #website #design #company #India #top #Guide #Digital #digitalart #digitalmarketing #Motivation #MotivationalQuotes https://t.co/XC1IcrFy74</td>\n",
              "      <td>https://twitter.com/webdesignersco/status/1246413611209293825</td>\n",
              "      <td>Sat Apr 04 09:44:02 +0000 2020</td>\n",
              "      <td>1246372901244129282</td>\n",
              "      <td>False</td>\n",
              "      <td>web design company</td>\n",
              "      <td>826</td>\n",
              "      <td>22</td>\n",
              "      <td>5</td>\n",
              "      <td>1</td>\n",
              "      <td>Kolkata, India</td>\n",
              "      <td>webdesign</td>\n",
              "      <td>webdesignersco</td>\n",
              "      <td>50</td>\n",
              "      <td>NaN</td>\n",
              "      <td>https://bit.ly/webdesignonly</td>\n",
              "      <td>False</td>\n",
              "    </tr>\n",
              "    <tr>\n",
              "      <th>9</th>\n",
              "      <td>NaN</td>\n",
              "      <td>Mon May 04 04:49:27 +0000 2020</td>\n",
              "      <td>NaN</td>\n",
              "      <td>NaN</td>\n",
              "      <td>NaN</td>\n",
              "      <td>27</td>\n",
              "      <td>1257170452633583619</td>\n",
              "      <td>NaN</td>\n",
              "      <td>NaN</td>\n",
              "      <td>NaN</td>\n",
              "      <td>en</td>\n",
              "      <td>New Delhi, India</td>\n",
              "      <td>NaN</td>\n",
              "      <td>NaN</td>\n",
              "      <td>2</td>\n",
              "      <td>NaN</td>\n",
              "      <td>NaN</td>\n",
              "      <td>&lt;a href=\"http://twitter.com/download/iphone\" rel=\"nofollow\"&gt;Twitter for iPhone&lt;/a&gt;</td>\n",
              "      <td>As migrant labourers are going back to their home states 2 major issues arise one for the states from which they have moved as to how to start and continue industrial activities to pre covid level &amp;amp; secondly for their home states to provide them meaningful work @pankajjha_</td>\n",
              "      <td>https://twitter.com/abhaysinghias07/status/1257170452633583619</td>\n",
              "      <td>Wed Mar 06 17:31:51 +0000 2019</td>\n",
              "      <td>1103347474457153536</td>\n",
              "      <td>False</td>\n",
              "      <td>Husband | puchpuch ke Papa| Engineer turned Bureaucrat | IAS | UP | 07 | @Iasassociation | @UPGovt | Instagram- theabhaysinghias07</td>\n",
              "      <td>1204</td>\n",
              "      <td>1253</td>\n",
              "      <td>473</td>\n",
              "      <td>1</td>\n",
              "      <td>Lucknow</td>\n",
              "      <td>Abhay Singh</td>\n",
              "      <td>abhaysinghias07</td>\n",
              "      <td>279</td>\n",
              "      <td>NaN</td>\n",
              "      <td>NaN</td>\n",
              "      <td>False</td>\n",
              "    </tr>\n",
              "    <tr>\n",
              "      <th>11</th>\n",
              "      <td>NaN</td>\n",
              "      <td>Mon May 18 17:19:24 +0000 2020</td>\n",
              "      <td>NaN</td>\n",
              "      <td>NaN</td>\n",
              "      <td>NaN</td>\n",
              "      <td>0</td>\n",
              "      <td>1262432613844824066</td>\n",
              "      <td>HardeepSPuri</td>\n",
              "      <td>NaN</td>\n",
              "      <td>2.289629e+09</td>\n",
              "      <td>en</td>\n",
              "      <td>NaN</td>\n",
              "      <td>NaN</td>\n",
              "      <td>NaN</td>\n",
              "      <td>0</td>\n",
              "      <td>NaN</td>\n",
              "      <td>NaN</td>\n",
              "      <td>&lt;a href=\"http://twitter.com/download/android\" rel=\"nofollow\"&gt;Twitter for Android&lt;/a&gt;</td>\n",
              "      <td>@HardeepSPuri @MEAIndia @vipulifs @cgidubai I had register to go back to india.I am jobless .I had also medical emergency in my family means my mother is not well. so I want to go back to India (Mumbai Maharashtra).when is flight for Dubai to Mumbai Plz help me in urgent</td>\n",
              "      <td>https://twitter.com/ShirkeAmay/status/1262432613844824066</td>\n",
              "      <td>Fri Jun 01 15:40:42 +0000 2018</td>\n",
              "      <td>1002575672672309248</td>\n",
              "      <td>False</td>\n",
              "      <td>NaN</td>\n",
              "      <td>421</td>\n",
              "      <td>85</td>\n",
              "      <td>253</td>\n",
              "      <td>0</td>\n",
              "      <td>Badlapur, India</td>\n",
              "      <td>Amay Shirke</td>\n",
              "      <td>ShirkeAmay</td>\n",
              "      <td>1571</td>\n",
              "      <td>NaN</td>\n",
              "      <td>NaN</td>\n",
              "      <td>False</td>\n",
              "    </tr>\n",
              "    <tr>\n",
              "      <th>17</th>\n",
              "      <td>NaN</td>\n",
              "      <td>Thu Aug 13 06:59:36 +0000 2020</td>\n",
              "      <td>teachfromanywhere workfromhome onlineclasses virtualclassroom</td>\n",
              "      <td>https://twitter.com/JamboAcademy/status/1293804379099676672/video/1</td>\n",
              "      <td>http://www.jamboacademy.com</td>\n",
              "      <td>0</td>\n",
              "      <td>1293804379099676672</td>\n",
              "      <td>NaN</td>\n",
              "      <td>NaN</td>\n",
              "      <td>NaN</td>\n",
              "      <td>en</td>\n",
              "      <td>India</td>\n",
              "      <td>False</td>\n",
              "      <td>NaN</td>\n",
              "      <td>0</td>\n",
              "      <td>NaN</td>\n",
              "      <td>NaN</td>\n",
              "      <td>&lt;a href=\"http://twitter.com/download/android\" rel=\"nofollow\"&gt;Twitter for Android&lt;/a&gt;</td>\n",
              "      <td>Join Jambo Academy for a perfect virtual connect and meet ups for your school, college and business. https://t.co/ARVSIqy8eT #teachfromanywhere #workfromhome #onlineclasses #virtualclassroom https://t.co/kQymqxTGx3</td>\n",
              "      <td>https://twitter.com/JamboAcademy/status/1293804379099676672</td>\n",
              "      <td>Fri Jul 31 11:13:42 +0000 2020</td>\n",
              "      <td>1289156873527099392</td>\n",
              "      <td>False</td>\n",
              "      <td>The best platform for #virtualeducation #trainings #elearning #onlinemeetings. Be a part of #futuristic #onlineclassroom #learnonline #webinar #workfromhome</td>\n",
              "      <td>24</td>\n",
              "      <td>1</td>\n",
              "      <td>39</td>\n",
              "      <td>0</td>\n",
              "      <td>1400-355 Burrad St VancouverCA</td>\n",
              "      <td>Jambo Academy</td>\n",
              "      <td>JamboAcademy</td>\n",
              "      <td>23</td>\n",
              "      <td>NaN</td>\n",
              "      <td>http://www.jamboacademy.com</td>\n",
              "      <td>False</td>\n",
              "    </tr>\n",
              "  </tbody>\n",
              "</table>\n",
              "</div>"
            ],
            "text/plain": [
              "   coordinates  ... user_verified\n",
              "5          NaN  ...         False\n",
              "8          NaN  ...         False\n",
              "9          NaN  ...         False\n",
              "11         NaN  ...         False\n",
              "17         NaN  ...         False\n",
              "\n",
              "[5 rows x 35 columns]"
            ]
          },
          "metadata": {},
          "execution_count": 6
        }
      ]
    },
    {
      "cell_type": "markdown",
      "metadata": {
        "id": "PI420Dz4Owcq"
      },
      "source": [
        "# Removing Spam Tweets"
      ]
    },
    {
      "cell_type": "code",
      "metadata": {
        "id": "tY-y51Q1O4lr"
      },
      "source": [
        "# spam1 = All_Indian_tweets[All_Indian_tweets.text.str.contains('9701391431')] #Spam\n",
        "# spam2 = All_Indian_tweets[All_Indian_tweets.text.str.contains('jobless numbers cross 120 million in April')] # Everyone sharing bbc news report\n",
        "# spam3 = All_Indian_tweets[All_Indian_tweets.text.str.contains('and I am not getting any')] #Spam\n",
        "# spam4 = All_Indian_tweets[All_Indian_tweets.text.str.contains(' poor and unemployed educated orphan and I am')]\n",
        "# spam5 = All_Indian_tweets[All_Indian_tweets.text.str.contains('from westbengal indian government especially')]\n",
        "# spam6 = All_Indian_tweets[All_Indian_tweets.text.str.contains('I had register to go back to')]\n",
        "# spam7 = All_Indian_tweets[All_Indian_tweets.text.str.contains('medical emergency in my family')]\n",
        "\n",
        "#india #newdelhi #jobs #gurgaon #gurugram #careers #contactcentre #workfromhome #WFH\n",
        "\n",
        "All_Indian_tweets = All_Indian_tweets[~All_Indian_tweets.text.str.contains('9701391431|Shiv Sena says Raghuram Rajan’s') & \n",
        "                                      ~All_Indian_tweets.text.str.contains('Hackers who is ready 2stab|Jobless after virus lockdown') & \n",
        "                                      ~All_Indian_tweets.text.str.contains('You have risked life of poor') &\n",
        "                                      ~All_Indian_tweets.text.str.contains('getting any sort of assistance from westbengal') &\n",
        "                                      ~All_Indian_tweets.text.str.contains('I had to register to go back to') &\n",
        "                                      ~All_Indian_tweets.text.str.contains('medical emergency in my family') &\n",
        "                                      ~All_Indian_tweets.text.str.contains('BoycottChineseProducts wholeheartedly') &\n",
        "                                      ~All_Indian_tweets.text.str.contains('Travelling for the exams can be a burden to many') &\n",
        "                                      ~All_Indian_tweets.text.str.contains('India jobless rate swells above') &\n",
        "                                      ~All_Indian_tweets.text.str.contains('TCS employees|help from westbengal indian government') &\n",
        "                                      ~All_Indian_tweets.text.str.contains('Coronavirus lockdown: India jobless numbers cross 120 million in April') &\n",
        "                                      ~All_Indian_tweets.text.str.contains('moving to our state-of-the-art office') &\n",
        "                                      ~All_Indian_tweets.text.str.contains(\"Students are India's backbone.\") &\n",
        "                                      ~All_Indian_tweets.text.str.contains('jobless and hungry and in real fear') &\n",
        "                                      ~All_Indian_tweets.text.str.contains('31march2020') &\n",
        "                                      ~All_Indian_tweets.text.str.contains('#newdelhi #jobs #gurugram #careers #contactcentre')]\n"
      ],
      "execution_count": null,
      "outputs": []
    },
    {
      "cell_type": "code",
      "metadata": {
        "colab": {
          "base_uri": "https://localhost:8080/"
        },
        "id": "_Y2iLP1qNXlQ",
        "outputId": "15117982-d1ef-4f58-9294-c6deb8ef337a"
      },
      "source": [
        "tweets = All_Indian_tweets['text']\n",
        "tweets = tweets.reset_index(drop=True)\n",
        "tweets.size"
      ],
      "execution_count": null,
      "outputs": [
        {
          "output_type": "execute_result",
          "data": {
            "text/plain": [
              "8914"
            ]
          },
          "metadata": {},
          "execution_count": 8
        }
      ]
    },
    {
      "cell_type": "code",
      "metadata": {
        "id": "IKzu4kd7TOnU"
      },
      "source": [
        "tweets.to_csv('/content/drive/MyDrive/1 Work Life Balance/WLB_Tweets.csv', index=False)"
      ],
      "execution_count": null,
      "outputs": []
    },
    {
      "cell_type": "code",
      "metadata": {
        "id": "RdxRtPdLUHdY"
      },
      "source": [
        "Indian_Tweets = All_Indian_tweets.reset_index(drop=True)\n",
        "Indian_Tweets.to_csv('/content/drive/MyDrive/1 Work Life Balance/WLB_Full_Tweets.csv', index=False)"
      ],
      "execution_count": null,
      "outputs": []
    },
    {
      "cell_type": "markdown",
      "metadata": {
        "id": "uxqke09z0Rwv"
      },
      "source": [
        "# **Cleaning Tweets**"
      ]
    },
    {
      "cell_type": "code",
      "metadata": {
        "colab": {
          "base_uri": "https://localhost:8080/"
        },
        "id": "fNWw817-US7R",
        "outputId": "7e60fdb4-1efd-45e0-c1bf-d4ba353ce890"
      },
      "source": [
        "tweet_list = tweets.to_list()\n",
        "print('Total Number of Tweets :'+str(len(tweet_list)))\n",
        "tweet_list = list(set(tweet_list))\n",
        "print('Total Number of Unique Tweets :'+str(len(tweet_list)))\n",
        "tweet_list[:4]"
      ],
      "execution_count": null,
      "outputs": [
        {
          "output_type": "stream",
          "name": "stdout",
          "text": [
            "Total Number of Tweets :8914\n",
            "Total Number of Unique Tweets :8779\n"
          ]
        },
        {
          "output_type": "execute_result",
          "data": {
            "text/plain": [
              "['Grassroot level reporters are actually the backbone of this profession. They have their ears close to the ground. Hence, the state government tried to silence their voices first. @sukanyashantha @thewire_in https://t.co/lYPKynhYIk',\n",
              " 'Are they moving back to pre Covid19 status quo ? https://t.co/qJ9Ul5ZqR4',\n",
              " 'Why the hell a highly reputed institute like AIIMS not admitting new #COVIDー19 patients &amp; sending them back even after having beds available for Corona Patients ?? \\n#BJPkaAIIMSkand',\n",
              " \"Few days back I got my electricity bill and shocked to see the amount. It's more than usual. What kind of electricity I consumed during lockdown that you're charging so much!! @md_jbvnl #WrongCharging\"]"
            ]
          },
          "metadata": {},
          "execution_count": 11
        }
      ]
    },
    {
      "cell_type": "code",
      "metadata": {
        "colab": {
          "base_uri": "https://localhost:8080/"
        },
        "id": "B2dzZmhDY1Cu",
        "outputId": "80c20761-d4da-4d37-8add-cb79990e35a2"
      },
      "source": [
        "Cleaned_Tweets=[]\n",
        "for tweet in tweet_list:\n",
        "  tweet = ' '.join(re.sub(\"(@[A-Za-z0-9]+)|([^0-9A-Za-z \\t])|(\\w+:\\/\\/\\S+)\",\"\",tweet).split())\n",
        "  Cleaned_Tweets.append(tweet.lower())\n",
        "\n",
        "print('Total Number of Tweets :'+str(len(Cleaned_Tweets)))\n",
        "Cleaned_Tweets = list(set(Cleaned_Tweets))\n",
        "print('Total Number of Unique Tweets :'+str(len(Cleaned_Tweets)))\n",
        "\n",
        "Cleaned_Tweets[:100]"
      ],
      "execution_count": null,
      "outputs": [
        {
          "output_type": "stream",
          "name": "stdout",
          "text": [
            "Total Number of Tweets :8779\n",
            "Total Number of Unique Tweets :8539\n"
          ]
        },
        {
          "output_type": "execute_result",
          "data": {
            "text/plain": [
              "['workfromhome schedule11 am eat 12 pm think about 1 pm check emails2 pm help mom with house chores3 pm eat 4 pm get on a concall5 pm stroll around the house6 pm think about 7 pm take a bath9 pm eat 11 pm dream about letsstayhome',\n",
              " 'the government can afford quarantine and medication facilities but not let a year go waste your mental health will deteriorate if exams are not conducted opinion backed with fact55hrdministry nta',\n",
              " 'antinationalnarendramodi all these false propaganda cant stand long people are matured realise the facts you will soon jobless amp will be politically eliminated by the people you are in last stage of elimination i request govt of india to take action on fake news',\n",
              " 'yes the show must go oncovid19 india workfromhome wfm promodomecommunication',\n",
              " 'india upw what is happening upar ka tweet dekhie or solve krie issue how people can rely on bsnl and do work from home in lockdown',\n",
              " 'we will be open from 1 to 9 wednesday thru monday thank you all for your patience during these covid lockdowns and curfews happy to get back to making fabulous burgers and shakes authenticamericanfood',\n",
              " 'because holidays are importanter corona can take the backseat',\n",
              " 'wowquoteparenting parentingquotes quotes foodforthought gentleparenting liveclass digitalpreschool novynestagainstcorona remotechildcare homeactivities homeschool learningbydoing',\n",
              " 'chinese have pulled back and india has not surrendered an in inch of landin 1962nehru surrendered a swath of land of the size of a small country to the chinese and they have stayed onnehru had a scientific temperamentwith due apologies to nehrumy respects',\n",
              " 'bjp bjp krantikari jindia p airports bsnlairindia licjetall our maximum our ram bhakt are jobless',\n",
              " 'this work from home is a signa zodiac signtell us your work from home ootd in the comments below and tag your zodiac twin zodiacsigns',\n",
              " 'someone tweeted a covid19 warriors pic a week back with help of my daughter i added the missing warrior we need to laud our farmers too for ensuring food on our tables there needs to be a financial package too for them to help them overcome hardship as shown by',\n",
              " 'kindly refer national board of exams nbe 2020 for recruitment to the post of senior assistant junior assistant steno and other posts age limit1827kindly give at least one year age relaxation on account of covid19this is tough time of unemployed youth',\n",
              " 'k so what if you do more testing more case will come indian r not afraid of chinese virusits back to normal for indianthink about pakistan poor fellow dose not even have testing instruments',\n",
              " 'fear psychosis this fear psychosis due to covid19 whch killed 27000 amp infcted 12 lakh in india alone we contrdict mme banerjee who just repeats what some ppl said after gauri lankeshkalburgi murdrs a couple of yrs back statesmedia shud demand xecution for evry murderrape',\n",
              " 'lockdown 40 guidelinesassamcares assamfightsback indiafightscoronavirus',\n",
              " 'if i had my way i would do onlinehomeschool for high school',\n",
              " 'what are your holy grail rules for working remotelywfh workfromhome',\n",
              " 'its the beginning they will unleash every possible poison to cover their failure regarding covid unemployment jobless economy be ready for more toxic news they want everyone attention wow in newindia nothing wrong in his journalism fascism',\n",
              " 'from information if you want cm how you can get job when do you the maha yagnam 41days from us then you will be get cm 8328335144 corona also stop with my yagnam 41days please understand my petition',\n",
              " 'hello everyoneworlds best and highest income opportunity for youpartfull time business opportunitybe your own bossif you are interestedcontact 6350063650incomeopportunities workfromhome',\n",
              " 'the abrupt amp unplanned lockdown led to loss of employment for more than 12 crore indians and broke the backbone of the indian economyall these decisions were taken by the bjp govt amp in order to avoid any accountability they call it an actofgodwhat a shameresignnirmala',\n",
              " 'covid 19 pandemic lockdownworkfromhomeusing digitaltechnologyshowmustgoon vadodara gujarat india',\n",
              " 'goi im jobless since march ready to flight to any destination in india',\n",
              " 'i have a joke on work from home but ill tell you after a power nap that will go on for 2 hours',\n",
              " 'i came to goa last december to work on construction sites but i cant afford to live here anymore he said thus on friday morning he set out from dhargalim in pernem for perhaps the longest walk of his life we are going home he said unsure if he would ever reach',\n",
              " 'no country in the world has taken donations in the name of the pandemic covid 19 amp not given back to people be it ventilators petrol amp diesel hikegst on sanitisersthe loot of the railways from the immigrantsexorbitant prices of testing kits shameful speakupfordemocracy',\n",
              " 'there has been power cut on cosecutive 3 days since monday in panvel from morning 11 am to 2 pmwe are working from home and its getting hectic to continue to work with no electricity after paying 3 months random bills',\n",
              " 'please helps in rural area for better network we also doing work from home and using your networks but still there is no bradband facilities here location edaiyathimangalam manamelkudi taluk',\n",
              " 'can you explain what is the significance of this image of lady in sponsored content title is work from home in usa and you put image of india ladywhy are not checking your content and spam users ndtvsource',\n",
              " 'yogi ji is always one step aheadup considering work from home for govt employees amid coronavirus threatalso minimum pay will be paid to workers in case of leaves this is real antyodaya india news hindustan times',\n",
              " 'in india jobless migrant workers are dying to go home',\n",
              " 'sure im just waiting for lockdown to end here is a wiki page for you i hope you can read that dr mms and then pres kalam have been to siachin back in 2005 and 2007 respectively and they were 7273 years old hope you know where siachin is siachin conflict google search',\n",
              " 'mp i kindly requesting you to hope you can be kind to us and bring them to our hometown back barath mata ki jai hind',\n",
              " 'what exactly is d problem in this area dwarkasec6 plot1repeatedly unannounced power cutsdue2covid its work from homeentire night der was hidampseek vid electricitynow again no power supply in dis areaplz do d needfulamprectifyu didnt let us sleepplz let us work',\n",
              " 'covid19 effect kartik aaryan shares a glimpse of his work from home times of india',\n",
              " 'thankfully its wfhlook at those gurgaom roads',\n",
              " 'corona pandemic has pained humanity amp the thriving world with its ever spreading tentacles of dreaded virus lockdown humanity must fight it out amp bounce back asap each one must know hisher responsibility in tune with govt orders to succeed',\n",
              " 'growth will be back because base has gone real low',\n",
              " 'india sabhi ko pata hai pura india lockdown hai fir bhi humne koi na koi marketing company sey call ata hai like and my otherin normal day they call us its ok because there are working under security camera',\n",
              " 'modi ji pls help save our jobs t for tourism is in trouble tourism needs financial support immediately millions like me will be jobless helpsavetourismjobsindia',\n",
              " 'unstable power since morning finding difficulty to work from home please check and rectify the issues banaswadi abbaiah reddy layout',\n",
              " 'a covid patient from amguri is in sivasagar medical few days back he had an animal bite for which he is undergoing treatment doctor in siv civil has overlooked his scheduled injection dose inspite of repeated requests made by him please help hazarika',\n",
              " 'the lockdown may again be extended in india things we should focus upon isa have patienceb every day do some productive actionsc spend quality time with familytimes like this shall also passbe happy be safestay homecovid19 workfromhome workfromhome covid19out',\n",
              " 'india has to say we wont tolerate any nonsense packages of lakh crores in mere announcements backed with fake trends are not going to provide you bread and butter',\n",
              " 'your act fibernet request sr10243684085592 please resolve this hampering work from home',\n",
              " 'some jobless creature wants to make a mountain out of molehill india is expected to manage this keeping the interest of india us is a valued partner and as such the excess stock can be shared',\n",
              " 'official india goi there is no registration forum or clarity for workers to fly back canada as countries are giving priority to its citizensproutbound travel should consider already filed visa extension in criteria citizens do not have visa expiry but workers do have save us from being jobless',\n",
              " 'post corona office space at home videoconferencing and webinars will become permanent part of urban life in indiacoronavirusinindia workfromhome',\n",
              " 'dontspareviolators these carrier of virus no harm in labelling them as viral bombsi wouldnt be surprised of the corona warriors deny medical attention to them we might have been sent on a backfoot in our fight against corona pandemic still lets fight it out and win it over',\n",
              " 'work from home in lockdown in india 2020 hindi make money online 2020 usertesting bada pocket',\n",
              " 'paying income tax on money that was already taxedif spending for self on essentialnonessential goods paying taxes charged for use public facilities to build those they already collected in the past by taxationmean by the taxpayerindia workersday workfromhome',\n",
              " 'every covid fighter need this kind of gesture after they come back from covid19 war',\n",
              " 'perform your responsibilitiesaccording to the time not against the timeworklifebalance',\n",
              " 'please arrange to include us in this wife amp 1 year son are alone in thane is getting really difficult for them in these difficult timesplease help amp include us this flight',\n",
              " 'effects throwbackbeardslover beardsofinstagram glasses hairstyles fadecut blackandwhite coronabeing beardoholic ra0 lucknow uttar pradesh',\n",
              " 'mondays doesnt feel like mondays anymore mondaythoughts mondaymotivation monday mondaymorning weekend covid19 coronavirus chinavirus china workfromhome workingfromhome working',\n",
              " 'the mauryan empireseason 01 episode 01why is the mauryan empire important read answer who was chandragupta maurya read answer edtech edtechchat homeschooling cbse mauryan history india',\n",
              " 'home is the coziest workstation in the universe whats your comfortable working from home position looks likequarantinescene workfromhome workingfromhome quarantinetime india coronavirus covid19 quarantinedairies',\n",
              " 'as the benefits of a worklife balance are not confined to lowstress level both the employees and employers should have flexible approaches to it worklifebalance workculture workenvironment worklife workplacewellness',\n",
              " 'what happened at lac will now take a backseat india world no 2 in terms of corona cases wont be an issueindia world no 1 in daily cases amp deaths will not matter falling gdp will not be discussedjob losses will not matternews channels will run govts agenda',\n",
              " 'no matter in how many ways you prove this point one jobless bugger below every corona virus related update in india will put his fingers inside his ears and invariably shout weeee arrrreeee noottt teessttttiiinnnngggg enuffffff',\n",
              " 'number of coronavirus cases in india goes past 50 but no death from covid19 center advises against any nonessential travel abroad latest travel advisory also advises 14day selfimposed quarantine and workfromhome for passengers coming in from highlyaffected countries',\n",
              " 'ugc directive is deeply troublingamp unhelpful for studentsamp represents a ploy to push exclusionary models of education backed by corporate interests by how pandemic is going it is almost unthinkable that examinations can be held in any wayspeakupforstudents',\n",
              " 'sir how vl v beat corona n wats the point of lockdown if everyone wants to get back to their home what if they carry corona to their remote villages who vl be responsible',\n",
              " 'thankful to the company which i work for amid outbreak of covid19 in india gave the colleagues work from home opportunity healthyworkenvironment covid19india employerappreciationday',\n",
              " 'kejriwals failure in managing covid is monumental thanks to amit shah situation is going back to normal coincidentally thr are no elections in delhi else aap supporters would hve accused shah of doing all this for winning elections',\n",
              " 'flipkart india is a cheat company they committed fraud today and i was charged rs19198 instead of rs 17198 in the name of covid19but goods delivery not takenorder booked 2 days back od118813741816130000please check',\n",
              " 'due to corona eruption rajyasabha elections scheduled on 26 march postponedby govt of indiahowever bjp insisted on trust vote just a few days backgovernor of the state ordered commencement of legislative assembly for trust vote just 2days back couldnt feel fear of corona',\n",
              " 'economy to rebound in second half of 2020 as covid19 recedes ihs markit economy back on track kudos to pm and fm',\n",
              " 'your resignation is welcome step hope you will join bjp and support the party and people who stand for national cause and stand for nationalism amitshah',\n",
              " 'dear corona viruscan we have our fucking lives backsincerelyeverybodyplzzz go awayquarantine coronavirus',\n",
              " 'dec19 i was wondering how frequently ill be able to meet my family in the 16month long training at nadt come marchi came back home for the training turned online due to covidwe start module 2 today fretting over life and excessive planninglet go amp flow with the universe',\n",
              " 'indias leading worst telecom company which provides service in a way you cant convey your genuine complaints daily essential manufacturing companies slashed their prices users got increased bcoz of work from home currently only dept which makes excellent profit',\n",
              " 'bantiktokinindia tiktok founder zhang timing said that he created this app for unstable and jobless people he laughed and said he never thought india has too much these kind of people when even tiktok is not on your side you dont have the right to judge others stupid people',\n",
              " 'the covid pandemic has deepened the unemployment crisis in the country does the govt have any plan to secure the livelihood of millions of people rozgardorozgardo',\n",
              " 'follow us on facebook twitter linkedin instagram for tips to workfromhome lockdown2 indiafightscorona mumbai india startup startupindia',\n",
              " 'page 89 founder and creative director of banjaaran mehandee meera dureja created this exclusive illustration for cosmo indias workfromhome series locked down with my inner voice explores the effect of covid19 on ones mental health read below',\n",
              " 'hi sirs i request to open ites industry at least for those who cant work from home ites industry adds a huge age of revenue for ncr and india kindly allow entire udyog vihar samshan ho gaya hai rona aah raha hai',\n",
              " 'who is besttiktokexposed tiktokdown covid19 tiktokban tiktokbanindia covid developingbalochistan lockdown2020 carryminati bbkivines youtube youtubevstiktok youtuber carryminativideoback carryminatiroast carryhits7mlikes',\n",
              " 'official india india sir please start international operations soon or increase number of flight in vande bharat mission as its limited flights i am jobless and stuck in uae and its very hard to survive here',\n",
              " 'one year going backis much better to loosing a lifei appeal do not open schools until vaccine for novel covide19 is not outcoronavirus childofnation closeschool savethefuture againstopeningschool children savehumanity indiafightscovid19',\n",
              " 'many of us have still got to realize thatgoing back to college post corona would be the last time wed be going back as students lpu lovelyprofessionaluniversity',\n",
              " 'it is regrettable cong party wantschina to come inincrease in covid spread just to oust pm modicongres is digging its own grave reason is lust for powerthey will never get it back because of this bad attitudegeneral publicr well awarehigh time they changegood for them',\n",
              " 'india us natural partners amp time our partnership helps world bounce back from pandemic pm modi',\n",
              " 'as india deals with prospects of stayhome and workfromhome for much longer one thing is quite evident we are not just experimenting more with our cooking but also with our baking writes coronavirus coronavirusupdates covid19',\n",
              " 'logo design for bookiishly yourplease comment and tell how was it bookishlyyours book look reader design designoftheday insta facebook india lockdown covid19 workfromhome corona coronavirus',\n",
              " 'are our prime minister of indiaas the world amp nation is facing through covid 19 for which you took the correct steps to save the peoplebut the country is facing through financial problems lower class amp middle class for money food house medical issues jobless',\n",
              " 'india respected sir duw to lockdown after 25 march a lot of cg employees are stucked in other states at their home town and unable to join officekindly issue leavejoining rules in this regard so that they get mentally relief these employees may be granted scl or work from home',\n",
              " 'any concrete job opportunity in india and outside india also welcome also if anyrequire me work from home in accounts tax audit field and also law content drafting as i want experience in drafting also and please view my profilethank you shaguftaindia 91 8291608957',\n",
              " 'what a loser of a pm talibankhan who is jobless in his own countryhas so much time to keep writing about india but does zilch for his own people especially the minoritieswhat a pity that instead of working on covid19 measures you sit on twitter to talk abt india',\n",
              " 'sir ji i am paying bill for bsnl ftth broadband internet monthly and still not getting internet for last two dayseven the complain number is going is very hard to work from home without good internetresponsible people are not responding',\n",
              " 'listen to capt anshul sheoran make this memorable inflight announcement on the first missionvandebharat flight which brought back indians from abu dhabi to kochi on the airindia express flight last night goi india',\n",
              " '2 has this new workfromhome environment improved your worklifebalance',\n",
              " 'any scheme for refund on money on covid flight cancellation as my huge amount is blocked in credit shell summer vacation is over so no travel need funds backvyas',\n",
              " 'ph india ghosh safety is most important to us and for business so work from home is best solution all company should allow work from home immediate we shouldnt wait anymore',\n",
              " 'namaste is taking world by a storm proud to bring back our age old culture to spread d right msg during this tough period through namaste campaign our campaign is a small initiative to contribute in the worlds battle against corona virus namastekarona shemaroo',\n",
              " 'sir some sections of ppl creating disharmony spreading disease and fighting with doctors will really take the corona situation out of hand you may need to be more iron handed in dealing with such sections so that life for us normal ppl can get back to normal soon',\n",
              " 'cv19 impact top fashion companies in india introduce workfromhome clothing as retail category on their online stores to answer new demand increase customerengagement amp maintain cash flow during the lockdown',\n",
              " 'wonder whos in the lead for media coverage kardashianjenners or covid19 how do you think kris jenner is dealing with this sudden wave of irrelevance do you think shell be able to strike back does covid19 stand a chance stay tuned to know more kardashianvscovid19']"
            ]
          },
          "metadata": {},
          "execution_count": 14
        }
      ]
    },
    {
      "cell_type": "code",
      "metadata": {
        "id": "VR_iLGcgf_SB"
      },
      "source": [
        "pd.Series(Cleaned_Tweets).to_csv('/content/drive/MyDrive/1 Work Life Balance/Cleaned_Tweets.csv', index=False)"
      ],
      "execution_count": null,
      "outputs": []
    },
    {
      "cell_type": "markdown",
      "metadata": {
        "id": "OGIk8dQfn0rw"
      },
      "source": [
        "# Length of Tweet"
      ]
    },
    {
      "cell_type": "code",
      "metadata": {
        "colab": {
          "base_uri": "https://localhost:8080/"
        },
        "id": "9klS6OaGn1Po",
        "outputId": "f2bd3050-2f48-4b33-f224-ee7655cee167"
      },
      "source": [
        "len_tweet=[]\n",
        "for tweet in Cleaned_Tweets:\n",
        "    len_tweet.append(len(tweet.split()))\n",
        "len_tweet[:4]"
      ],
      "execution_count": null,
      "outputs": [
        {
          "output_type": "execute_result",
          "data": {
            "text/plain": [
              "[46, 30, 44, 10]"
            ]
          },
          "metadata": {},
          "execution_count": 15
        }
      ]
    },
    {
      "cell_type": "code",
      "metadata": {
        "colab": {
          "base_uri": "https://localhost:8080/",
          "height": 265
        },
        "id": "J9J3KWHPoOXn",
        "outputId": "abde161b-75c0-4628-d903-a1eddfdb5699"
      },
      "source": [
        "plt.hist(len_tweet,bins=100)\n",
        "plt.show()"
      ],
      "execution_count": null,
      "outputs": [
        {
          "output_type": "display_data",
          "data": {
            "image/png": "[encoded data removed]",
            "text/plain": [
              "<Figure size 432x288 with 1 Axes>"
            ]
          },
          "metadata": {
            "needs_background": "light"
          }
        }
      ]
    },
    {
      "cell_type": "code",
      "metadata": {
        "colab": {
          "base_uri": "https://localhost:8080/"
        },
        "id": "0Gu2Ac6FovTO",
        "outputId": "fa85fa53-92d2-47c9-b79f-b63f66083d13"
      },
      "source": [
        "max_length = max(len_tweet)\n",
        "max_length"
      ],
      "execution_count": null,
      "outputs": [
        {
          "output_type": "execute_result",
          "data": {
            "text/plain": [
              "63"
            ]
          },
          "metadata": {},
          "execution_count": 22
        }
      ]
    },
    {
      "cell_type": "code",
      "metadata": {
        "colab": {
          "base_uri": "https://localhost:8080/"
        },
        "id": "nmUAh40YoOOH",
        "outputId": "fc7f46ac-3fbb-4850-af56-a314ace1a425"
      },
      "source": [
        "# Tweets with more than 50 words\n",
        "count = 0\n",
        "for x in len_tweet:\n",
        "    if x>50:\n",
        "        count+=1\n",
        "count"
      ],
      "execution_count": null,
      "outputs": [
        {
          "output_type": "execute_result",
          "data": {
            "text/plain": [
              "516"
            ]
          },
          "metadata": {},
          "execution_count": 23
        }
      ]
    },
    {
      "cell_type": "markdown",
      "metadata": {
        "id": "Mmv6ijLo9aqP"
      },
      "source": [
        "# **Tokenization**"
      ]
    },
    {
      "cell_type": "code",
      "metadata": {
        "id": "NYrZP_S0Xr4D"
      },
      "source": [
        "Cleaned_Tweets"
      ],
      "execution_count": null,
      "outputs": []
    },
    {
      "cell_type": "code",
      "metadata": {
        "colab": {
          "base_uri": "https://localhost:8080/"
        },
        "id": "hVxUp2snXkGE",
        "outputId": "24c7a625-bc52-4b3d-fc71-c3c9d056653e"
      },
      "source": [
        "# Tokenization\n",
        "\n",
        "tweet_token=[]\n",
        "\n",
        "for tweet in Cleaned_Tweets:\n",
        "  tweet_token.append(tweet.split())\n",
        "print(tweet_token)"
      ],
      "execution_count": null,
      "outputs": []
    },
    {
      "cell_type": "code",
      "metadata": {
        "colab": {
          "base_uri": "https://localhost:8080/"
        },
        "id": "QcLZZZP1lbK_",
        "outputId": "f0458c89-88d8-4938-952d-13a3571a5cbb"
      },
      "source": [
        "#Spliting sentences into words\n",
        "\n",
        "All_Tweet_Sentences = Cleaned_Tweets[:]\n",
        "\n",
        "tweet_words = []\n",
        "for tweet in All_Tweet_Sentences:    \n",
        "    words = tweet.split()\n",
        "    for w in words: \n",
        "       tweet_words.append(w)\n",
        "\n",
        "print(tweet_words[:1000])\n",
        "print(len(tweet_words))"
      ],
      "execution_count": null,
      "outputs": [
        {
          "output_type": "stream",
          "name": "stdout",
          "text": [
            "['workfromhome', 'schedule11', 'am', 'eat', '12', 'pm', 'think', 'about', '1', 'pm', 'check', 'emails2', 'pm', 'help', 'mom', 'with', 'house', 'chores3', 'pm', 'eat', '4', 'pm', 'get', 'on', 'a', 'concall5', 'pm', 'stroll', 'around', 'the', 'house6', 'pm', 'think', 'about', '7', 'pm', 'take', 'a', 'bath9', 'pm', 'eat', '11', 'pm', 'dream', 'about', 'letsstayhome', 'the', 'government', 'can', 'afford', 'quarantine', 'and', 'medication', 'facilities', 'but', 'not', 'let', 'a', 'year', 'go', 'waste', 'your', 'mental', 'health', 'will', 'deteriorate', 'if', 'exams', 'are', 'not', 'conducted', 'opinion', 'backed', 'with', 'fact55hrdministry', 'nta', 'antinationalnarendramodi', 'all', 'these', 'false', 'propaganda', 'cant', 'stand', 'long', 'people', 'are', 'matured', 'realise', 'the', 'facts', 'you', 'will', 'soon', 'jobless', 'amp', 'will', 'be', 'politically', 'eliminated', 'by', 'the', 'people', 'you', 'are', 'in', 'last', 'stage', 'of', 'elimination', 'i', 'request', 'govt', 'of', 'india', 'to', 'take', 'action', 'on', 'fake', 'news', 'yes', 'the', 'show', 'must', 'go', 'oncovid19', 'india', 'workfromhome', 'wfm', 'promodomecommunication', 'india', 'upw', 'what', 'is', 'happening', 'upar', 'ka', 'tweet', 'dekhie', 'or', 'solve', 'krie', 'issue', 'how', 'people', 'can', 'rely', 'on', 'bsnl', 'and', 'do', 'work', 'from', 'home', 'in', 'lockdown', 'we', 'will', 'be', 'open', 'from', '1', 'to', '9', 'wednesday', 'thru', 'monday', 'thank', 'you', 'all', 'for', 'your', 'patience', 'during', 'these', 'covid', 'lockdowns', 'and', 'curfews', 'happy', 'to', 'get', 'back', 'to', 'making', 'fabulous', 'burgers', 'and', 'shakes', 'authenticamericanfood', 'because', 'holidays', 'are', 'importanter', 'corona', 'can', 'take', 'the', 'backseat', 'wowquoteparenting', 'parentingquotes', 'quotes', 'foodforthought', 'gentleparenting', 'liveclass', 'digitalpreschool', 'novynestagainstcorona', 'remotechildcare', 'homeactivities', 'homeschool', 'learningbydoing', 'chinese', 'have', 'pulled', 'back', 'and', 'india', 'has', 'not', 'surrendered', 'an', 'in', 'inch', 'of', 'landin', '1962nehru', 'surrendered', 'a', 'swath', 'of', 'land', 'of', 'the', 'size', 'of', 'a', 'small', 'country', 'to', 'the', 'chinese', 'and', 'they', 'have', 'stayed', 'onnehru', 'had', 'a', 'scientific', 'temperamentwith', 'due', 'apologies', 'to', 'nehrumy', 'respects', 'bjp', 'bjp', 'krantikari', 'jindia', 'p', 'airports', 'bsnlairindia', 'licjetall', 'our', 'maximum', 'our', 'ram', 'bhakt', 'are', 'jobless', 'this', 'work', 'from', 'home', 'is', 'a', 'signa', 'zodiac', 'signtell', 'us', 'your', 'work', 'from', 'home', 'ootd', 'in', 'the', 'comments', 'below', 'and', 'tag', 'your', 'zodiac', 'twin', 'zodiacsigns', 'someone', 'tweeted', 'a', 'covid19', 'warriors', 'pic', 'a', 'week', 'back', 'with', 'help', 'of', 'my', 'daughter', 'i', 'added', 'the', 'missing', 'warrior', 'we', 'need', 'to', 'laud', 'our', 'farmers', 'too', 'for', 'ensuring', 'food', 'on', 'our', 'tables', 'there', 'needs', 'to', 'be', 'a', 'financial', 'package', 'too', 'for', 'them', 'to', 'help', 'them', 'overcome', 'hardship', 'as', 'shown', 'by', 'kindly', 'refer', 'national', 'board', 'of', 'exams', 'nbe', '2020', 'for', 'recruitment', 'to', 'the', 'post', 'of', 'senior', 'assistant', 'junior', 'assistant', 'steno', 'and', 'other', 'posts', 'age', 'limit1827kindly', 'give', 'at', 'least', 'one', 'year', 'age', 'relaxation', 'on', 'account', 'of', 'covid19this', 'is', 'tough', 'time', 'of', 'unemployed', 'youth', 'k', 'so', 'what', 'if', 'you', 'do', 'more', 'testing', 'more', 'case', 'will', 'come', 'indian', 'r', 'not', 'afraid', 'of', 'chinese', 'virusits', 'back', 'to', 'normal', 'for', 'indianthink', 'about', 'pakistan', 'poor', 'fellow', 'dose', 'not', 'even', 'have', 'testing', 'instruments', 'fear', 'psychosis', 'this', 'fear', 'psychosis', 'due', 'to', 'covid19', 'whch', 'killed', '27000', 'amp', 'infcted', '12', 'lakh', 'in', 'india', 'alone', 'we', 'contrdict', 'mme', 'banerjee', 'who', 'just', 'repeats', 'what', 'some', 'ppl', 'said', 'after', 'gauri', 'lankeshkalburgi', 'murdrs', 'a', 'couple', 'of', 'yrs', 'back', 'statesmedia', 'shud', 'demand', 'xecution', 'for', 'evry', 'murderrape', 'lockdown', '40', 'guidelinesassamcares', 'assamfightsback', 'indiafightscoronavirus', 'if', 'i', 'had', 'my', 'way', 'i', 'would', 'do', 'onlinehomeschool', 'for', 'high', 'school', 'what', 'are', 'your', 'holy', 'grail', 'rules', 'for', 'working', 'remotelywfh', 'workfromhome', 'its', 'the', 'beginning', 'they', 'will', 'unleash', 'every', 'possible', 'poison', 'to', 'cover', 'their', 'failure', 'regarding', 'covid', 'unemployment', 'jobless', 'economy', 'be', 'ready', 'for', 'more', 'toxic', 'news', 'they', 'want', 'everyone', 'attention', 'wow', 'in', 'newindia', 'nothing', 'wrong', 'in', 'his', 'journalism', 'fascism', 'from', 'information', 'if', 'you', 'want', 'cm', 'how', 'you', 'can', 'get', 'job', 'when', 'do', 'you', 'the', 'maha', 'yagnam', '41days', 'from', 'us', 'then', 'you', 'will', 'be', 'get', 'cm', '8328335144', 'corona', 'also', 'stop', 'with', 'my', 'yagnam', '41days', 'please', 'understand', 'my', 'petition', 'hello', 'everyoneworlds', 'best', 'and', 'highest', 'income', 'opportunity', 'for', 'youpartfull', 'time', 'business', 'opportunitybe', 'your', 'own', 'bossif', 'you', 'are', 'interestedcontact', '6350063650incomeopportunities', 'workfromhome', 'the', 'abrupt', 'amp', 'unplanned', 'lockdown', 'led', 'to', 'loss', 'of', 'employment', 'for', 'more', 'than', '12', 'crore', 'indians', 'and', 'broke', 'the', 'backbone', 'of', 'the', 'indian', 'economyall', 'these', 'decisions', 'were', 'taken', 'by', 'the', 'bjp', 'govt', 'amp', 'in', 'order', 'to', 'avoid', 'any', 'accountability', 'they', 'call', 'it', 'an', 'actofgodwhat', 'a', 'shameresignnirmala', 'covid', '19', 'pandemic', 'lockdownworkfromhomeusing', 'digitaltechnologyshowmustgoon', 'vadodara', 'gujarat', 'india', 'goi', 'im', 'jobless', 'since', 'march', 'ready', 'to', 'flight', 'to', 'any', 'destination', 'in', 'india', 'i', 'have', 'a', 'joke', 'on', 'work', 'from', 'home', 'but', 'ill', 'tell', 'you', 'after', 'a', 'power', 'nap', 'that', 'will', 'go', 'on', 'for', '2', 'hours', 'i', 'came', 'to', 'goa', 'last', 'december', 'to', 'work', 'on', 'construction', 'sites', 'but', 'i', 'cant', 'afford', 'to', 'live', 'here', 'anymore', 'he', 'said', 'thus', 'on', 'friday', 'morning', 'he', 'set', 'out', 'from', 'dhargalim', 'in', 'pernem', 'for', 'perhaps', 'the', 'longest', 'walk', 'of', 'his', 'life', 'we', 'are', 'going', 'home', 'he', 'said', 'unsure', 'if', 'he', 'would', 'ever', 'reach', 'no', 'country', 'in', 'the', 'world', 'has', 'taken', 'donations', 'in', 'the', 'name', 'of', 'the', 'pandemic', 'covid', '19', 'amp', 'not', 'given', 'back', 'to', 'people', 'be', 'it', 'ventilators', 'petrol', 'amp', 'diesel', 'hikegst', 'on', 'sanitisersthe', 'loot', 'of', 'the', 'railways', 'from', 'the', 'immigrantsexorbitant', 'prices', 'of', 'testing', 'kits', 'shameful', 'speakupfordemocracy', 'there', 'has', 'been', 'power', 'cut', 'on', 'cosecutive', '3', 'days', 'since', 'monday', 'in', 'panvel', 'from', 'morning', '11', 'am', 'to', '2', 'pmwe', 'are', 'working', 'from', 'home', 'and', 'its', 'getting', 'hectic', 'to', 'continue', 'to', 'work', 'with', 'no', 'electricity', 'after', 'paying', '3', 'months', 'random', 'bills', 'please', 'helps', 'in', 'rural', 'area', 'for', 'better', 'network', 'we', 'also', 'doing', 'work', 'from', 'home', 'and', 'using', 'your', 'networks', 'but', 'still', 'there', 'is', 'no', 'bradband', 'facilities', 'here', 'location', 'edaiyathimangalam', 'manamelkudi', 'taluk', 'can', 'you', 'explain', 'what', 'is', 'the', 'significance', 'of', 'this', 'image', 'of', 'lady', 'in', 'sponsored', 'content', 'title', 'is', 'work', 'from', 'home', 'in', 'usa', 'and', 'you', 'put', 'image', 'of', 'india', 'ladywhy', 'are', 'not', 'checking', 'your', 'content', 'and', 'spam', 'users', 'ndtvsource', 'yogi', 'ji', 'is', 'always', 'one', 'step', 'aheadup', 'considering', 'work', 'from', 'home', 'for', 'govt', 'employees', 'amid', 'coronavirus', 'threatalso', 'minimum', 'pay', 'will', 'be', 'paid', 'to', 'workers', 'in', 'case', 'of', 'leaves', 'this', 'is', 'real', 'antyodaya', 'india', 'news', 'hindustan', 'times', 'in', 'india', 'jobless', 'migrant', 'workers', 'are', 'dying', 'to', 'go', 'home', 'sure', 'im', 'just', 'waiting', 'for', 'lockdown', 'to', 'end', 'here', 'is', 'a', 'wiki', 'page', 'for', 'you', 'i', 'hope', 'you', 'can', 'read', 'that', 'dr', 'mms', 'and', 'then', 'pres', 'kalam', 'have', 'been', 'to', 'siachin', 'back', 'in', '2005', 'and', '2007', 'respectively', 'and', 'they', 'were', '7273', 'years', 'old', 'hope', 'you', 'know', 'where', 'siachin', 'is', 'siachin', 'conflict', 'google', 'search', 'mp', 'i', 'kindly', 'requesting', 'you', 'to', 'hope', 'you', 'can', 'be', 'kind', 'to', 'us', 'and', 'bring', 'them', 'to', 'our', 'hometown']\n",
            "263638\n"
          ]
        }
      ]
    },
    {
      "cell_type": "markdown",
      "metadata": {
        "id": "-iXjNncHaSrE"
      },
      "source": [
        "# **Removing Stop words and doing Lemmetization**"
      ]
    },
    {
      "cell_type": "code",
      "metadata": {
        "id": "pFVt4DvRwsea",
        "colab": {
          "base_uri": "https://localhost:8080/"
        },
        "outputId": "eb3da8af-f5e4-4350-980a-7e22694c487d"
      },
      "source": [
        "nltk.download('stopwords')\n",
        "stopwords = nltk.corpus.stopwords.words('english')\n",
        "\n",
        "ss = SnowballStemmer('english')"
      ],
      "execution_count": null,
      "outputs": [
        {
          "output_type": "stream",
          "name": "stdout",
          "text": [
            "[nltk_data] Downloading package stopwords to /root/nltk_data...\n",
            "[nltk_data]   Unzipping corpora/stopwords.zip.\n"
          ]
        }
      ]
    },
    {
      "cell_type": "code",
      "metadata": {
        "colab": {
          "base_uri": "https://localhost:8080/"
        },
        "id": "n_k6l2LOahM6",
        "outputId": "9beca9ce-f3a2-47c7-aa8b-c045ef257647"
      },
      "source": [
        "clean_tweet_words=tweet_words[:]\n",
        "# clean_tweet_words=[]\n",
        "\n",
        "#removing stopwords from each tweet\n",
        "for w in tweet_words:\n",
        "  if w not in stopwords:\n",
        "    # w = ss.stem(w)\n",
        "    clean_tweet_words.append(w)\n",
        "\n",
        "print(len(clean_tweet_words))"
      ],
      "execution_count": null,
      "outputs": [
        {
          "output_type": "stream",
          "name": "stdout",
          "text": [
            "276876\n"
          ]
        }
      ]
    },
    {
      "cell_type": "code",
      "metadata": {
        "colab": {
          "base_uri": "https://localhost:8080/"
        },
        "id": "5p06QzCx9Ife",
        "outputId": "8fa4e2dd-09c5-4037-ba09-fd256bf33619"
      },
      "source": [
        "print(stopwords)"
      ],
      "execution_count": null,
      "outputs": [
        {
          "output_type": "stream",
          "name": "stdout",
          "text": [
            "['i', 'me', 'my', 'myself', 'we', 'our', 'ours', 'ourselves', 'you', \"you're\", \"you've\", \"you'll\", \"you'd\", 'your', 'yours', 'yourself', 'yourselves', 'he', 'him', 'his', 'himself', 'she', \"she's\", 'her', 'hers', 'herself', 'it', \"it's\", 'its', 'itself', 'they', 'them', 'their', 'theirs', 'themselves', 'what', 'which', 'who', 'whom', 'this', 'that', \"that'll\", 'these', 'those', 'am', 'is', 'are', 'was', 'were', 'be', 'been', 'being', 'have', 'has', 'had', 'having', 'do', 'does', 'did', 'doing', 'a', 'an', 'the', 'and', 'but', 'if', 'or', 'because', 'as', 'until', 'while', 'of', 'at', 'by', 'for', 'with', 'about', 'against', 'between', 'into', 'through', 'during', 'before', 'after', 'above', 'below', 'to', 'from', 'up', 'down', 'in', 'out', 'on', 'off', 'over', 'under', 'again', 'further', 'then', 'once', 'here', 'there', 'when', 'where', 'why', 'how', 'all', 'any', 'both', 'each', 'few', 'more', 'most', 'other', 'some', 'such', 'no', 'nor', 'not', 'only', 'own', 'same', 'so', 'than', 'too', 'very', 's', 't', 'can', 'will', 'just', 'don', \"don't\", 'should', \"should've\", 'now', 'd', 'll', 'm', 'o', 're', 've', 'y', 'ain', 'aren', \"aren't\", 'couldn', \"couldn't\", 'didn', \"didn't\", 'doesn', \"doesn't\", 'hadn', \"hadn't\", 'hasn', \"hasn't\", 'haven', \"haven't\", 'isn', \"isn't\", 'ma', 'mightn', \"mightn't\", 'mustn', \"mustn't\", 'needn', \"needn't\", 'shan', \"shan't\", 'shouldn', \"shouldn't\", 'wasn', \"wasn't\", 'weren', \"weren't\", 'won', \"won't\", 'wouldn', \"wouldn't\"]\n"
          ]
        }
      ]
    },
    {
      "cell_type": "markdown",
      "metadata": {
        "id": "lo9RFgZw0YOV"
      },
      "source": [
        "# **Forming N grams**"
      ]
    },
    {
      "cell_type": "markdown",
      "metadata": {
        "id": "Q3haXr7trkx6"
      },
      "source": [
        "Unigrams"
      ]
    },
    {
      "cell_type": "code",
      "metadata": {
        "colab": {
          "base_uri": "https://localhost:8080/"
        },
        "id": "7mppsJxGi45z",
        "outputId": "f7dd3639-e50b-4d15-d4b7-fcba91a63669"
      },
      "source": [
        "unigram = Counter(clean_tweet_words)\n",
        "unigram_top = unigram.most_common(100)\n",
        "unigram_top[:100]"
      ],
      "execution_count": null,
      "outputs": [
        {
          "output_type": "execute_result",
          "data": {
            "text/plain": [
              "[('to', 8492),\n",
              " ('the', 6706),\n",
              " ('in', 4850),\n",
              " ('of', 4789),\n",
              " ('and', 4486),\n",
              " ('india', 4232),\n",
              " ('is', 3682),\n",
              " ('from', 3493),\n",
              " ('for', 3130),\n",
              " ('a', 3084),\n",
              " ('home', 2945),\n",
              " ('work', 2658),\n",
              " ('back', 2591),\n",
              " ('are', 2540),\n",
              " ('i', 2347),\n",
              " ('this', 2024),\n",
              " ('we', 1988),\n",
              " ('it', 1927),\n",
              " ('you', 1924),\n",
              " ('on', 1893),\n",
              " ('s', 1677),\n",
              " ('covid', 1603),\n",
              " ('with', 1563),\n",
              " ('will', 1504),\n",
              " ('amp', 1482),\n",
              " ('be', 1430),\n",
              " ('have', 1358),\n",
              " ('not', 1337),\n",
              " ('corona', 1247),\n",
              " ('all', 1203),\n",
              " ('as', 1194),\n",
              " ('that', 1190),\n",
              " ('lockdown', 1175),\n",
              " ('jobless', 1167),\n",
              " ('can', 1142),\n",
              " ('my', 1108),\n",
              " ('people', 1092),\n",
              " ('workfromhome', 1047),\n",
              " ('at', 1038),\n",
              " ('our', 1021),\n",
              " ('your', 989),\n",
              " ('but', 985),\n",
              " ('by', 985),\n",
              " ('t', 971),\n",
              " ('has', 939),\n",
              " ('no', 931),\n",
              " ('19', 922),\n",
              " ('they', 904),\n",
              " ('now', 904),\n",
              " ('covid19', 789),\n",
              " ('their', 737),\n",
              " ('please', 731),\n",
              " ('us', 729),\n",
              " ('who', 714),\n",
              " ('do', 703),\n",
              " ('time', 685),\n",
              " ('how', 667),\n",
              " ('more', 659),\n",
              " ('so', 656),\n",
              " ('working', 655),\n",
              " ('if', 627),\n",
              " ('help', 625),\n",
              " ('coronavirus', 596),\n",
              " ('get', 589),\n",
              " ('what', 575),\n",
              " ('or', 575),\n",
              " ('sir', 559),\n",
              " ('pandemic', 557),\n",
              " ('due', 540),\n",
              " ('like', 525),\n",
              " ('was', 513),\n",
              " ('me', 513),\n",
              " ('days', 487),\n",
              " ('there', 474),\n",
              " ('one', 471),\n",
              " ('2', 470),\n",
              " ('about', 469),\n",
              " ('govt', 463),\n",
              " ('when', 450),\n",
              " ('after', 449),\n",
              " ('am', 445),\n",
              " ('many', 444),\n",
              " ('life', 435),\n",
              " ('them', 433),\n",
              " ('need', 429),\n",
              " ('go', 425),\n",
              " ('up', 390),\n",
              " ('wfh', 387),\n",
              " ('unemployment', 385),\n",
              " ('don', 384),\n",
              " ('take', 382),\n",
              " ('only', 381),\n",
              " ('out', 380),\n",
              " ('been', 375),\n",
              " ('he', 373),\n",
              " ('also', 370),\n",
              " ('during', 369),\n",
              " ('should', 365),\n",
              " ('just', 365),\n",
              " ('new', 363)]"
            ]
          },
          "metadata": {},
          "execution_count": 17
        }
      ]
    },
    {
      "cell_type": "code",
      "metadata": {
        "id": "3EShXFBF2UFc"
      },
      "source": [
        "vocab_size = len(unigram)"
      ],
      "execution_count": null,
      "outputs": []
    },
    {
      "cell_type": "markdown",
      "metadata": {
        "id": "a8E1SwWTrrHG"
      },
      "source": [
        "Trigrams"
      ]
    },
    {
      "cell_type": "code",
      "metadata": {
        "colab": {
          "base_uri": "https://localhost:8080/"
        },
        "id": "TTujtaZIqnb4",
        "outputId": "bab9f4e0-6086-4f36-e1d9-cf71323a0407"
      },
      "source": [
        "trigram = ngrams(clean_tweet_words, 3)\n",
        "trigram_top = Counter(trigram)\n",
        "trigram_top.most_common(20)"
      ],
      "execution_count": null,
      "outputs": [
        {
          "output_type": "execute_result",
          "data": {
            "text/plain": [
              "[(('work', 'from', 'home'), 1789),\n",
              " (('to', 'work', 'from'), 359),\n",
              " (('working', 'from', 'home'), 324),\n",
              " (('from', 'home', 'and'), 130),\n",
              " (('due', 'to', 'covid'), 115),\n",
              " (('go', 'back', 'to'), 97),\n",
              " (('to', 'covid', '19'), 87),\n",
              " (('to', 'go', 'back'), 84),\n",
              " (('from', 'home', 'for'), 79),\n",
              " (('from', 'home', 'is'), 73),\n",
              " (('of', 'covid', '19'), 73),\n",
              " (('get', 'back', 'to'), 71),\n",
              " (('back', 'to', 'normal'), 65),\n",
              " (('it', 's', 'a'), 64),\n",
              " (('i', 'don', 't'), 61),\n",
              " (('can', 'work', 'from'), 59),\n",
              " (('to', 'get', 'back'), 57),\n",
              " (('don', 't', 'have'), 57),\n",
              " (('back', 'to', 'their'), 57),\n",
              " (('there', 'is', 'no'), 56)]"
            ]
          },
          "metadata": {},
          "execution_count": 18
        }
      ]
    },
    {
      "cell_type": "code",
      "metadata": {
        "colab": {
          "base_uri": "https://localhost:8080/"
        },
        "id": "Q6_vwy2prNLv",
        "outputId": "7c8e0b0f-adc7-4aeb-f9e9-83e30c2f2072"
      },
      "source": [
        "pentagram = ngrams(clean_tweet_words, 5)\n",
        "pentagram_top = Counter(pentagram)\n",
        "top = pentagram_top.most_common(100)\n",
        "top = [list(ele) for ele in top]\n",
        "\n",
        "# for ele in top:\n",
        "\n",
        "#   print(' '.join(list(ele[0]+', '+ele[1])))\n",
        "# for a in top:\n",
        "#   top[a][0] = ' '.join(top[a][0])\n",
        "\n",
        "top"
      ],
      "execution_count": null,
      "outputs": [
        {
          "output_type": "execute_result",
          "data": {
            "text/plain": [
              "[[('employees', 'to', 'work', 'from', 'home'), 44],\n",
              " [('to', 'do', 'work', 'from', 'home'), 26],\n",
              " [('to', 'work', 'from', 'home', 'and'), 19],\n",
              " [('work', 'from', 'home', 'due', 'to'), 18],\n",
              " [('work', 'from', 'home', 'job', 'internship'), 18],\n",
              " [('from', 'home', 'job', 'internship', 'at'), 18],\n",
              " [('able', 'to', 'work', 'from', 'home'), 16],\n",
              " [('to', 'work', 'from', 'home', 'with'), 16],\n",
              " [('we', 'are', 'working', 'from', 'home'), 16],\n",
              " [('are', 'doing', 'work', 'from', 'home'), 15],\n",
              " [('can', 't', 'work', 'from', 'home'), 15],\n",
              " [('to', 'work', 'from', 'home', 'but'), 13],\n",
              " [('are', 'working', 'from', 'home', 'and'), 13],\n",
              " [('jobless', 'rate', 'jumps', 'to', '27'), 13],\n",
              " [('staff', 'to', 'work', 'from', 'home'), 13],\n",
              " [('people', 'to', 'work', 'from', 'home'), 12],\n",
              " [('i', 'am', 'working', 'from', 'home'), 12],\n",
              " [('to', 'work', 'from', 'home', 'for'), 12],\n",
              " [('india', 's', 'jobless', 'rate', 'jumps'), 12],\n",
              " [('s', 'jobless', 'rate', 'jumps', 'to'), 12],\n",
              " [('rate', 'jumps', 'to', '27', '1'), 12],\n",
              " [('i', 'm', 'working', 'from', 'home'), 10],\n",
              " [('want', 'to', 'go', 'back', 'to'), 10],\n",
              " [('supposed', 'to', 'work', 'from', 'home'), 10],\n",
              " [('not', 'able', 'to', 'work', 'from'), 10],\n",
              " [('want', 'to', 'go', 'back', 'home'), 10],\n",
              " [('india', 'to', 'work', 'from', 'home'), 10],\n",
              " [('how', 'to', 'work', 'from', 'home'), 10],\n",
              " [('work', 'from', 'home', 'for', 'the'), 10],\n",
              " [('the', 'need', 'of', 'the', 'hour'), 10],\n",
              " [('able', 'to', 'do', 'work', 'from'), 9],\n",
              " [('allow', 'employees', 'to', 'work', 'from'), 9],\n",
              " [('difficult', 'to', 'work', 'from', 'home'), 9],\n",
              " [('to', 'work', 'from', 'home', 'in'), 9],\n",
              " [('to', 'work', 'from', 'home', 'till'), 9],\n",
              " [('to', 'go', 'back', 'to', 'their'), 9],\n",
              " [('we', 'are', 'not', 'able', 'to'), 9],\n",
              " [('need', 'to', 'work', 'from', 'home'), 9],\n",
              " [('is', 'the', 'need', 'of', 'the'), 9],\n",
              " [('they', 'can', 'work', 'from', 'home'), 9],\n",
              " [('work', 'from', 'home', 'is', 'a'), 9],\n",
              " [('people', 'are', 'working', 'from', 'home'), 8],\n",
              " [('i', 'am', 'not', 'able', 'to'), 8],\n",
              " [('to', 'work', 'from', 'home', 'without'), 8],\n",
              " [('work', 'from', 'home', 'in', 'india'), 8],\n",
              " [('jumps', 'to', '27', '1', 'survey'), 8],\n",
              " [('india', 'many', 'people', 'are', 'jobless'), 8],\n",
              " [('work', 'from', 'home', 'this', 'is'), 8],\n",
              " [('who', 'can', 'work', 'from', 'home'), 8],\n",
              " [('us', 'to', 'work', 'from', 'home'), 8],\n",
              " [('how', 'can', 'i', 'work', 'from'), 8],\n",
              " [('can', 'i', 'work', 'from', 'home'), 8],\n",
              " [('allowed', 'to', 'work', 'from', 'home'), 8],\n",
              " [('unable', 'to', 'work', 'from', 'home'), 7],\n",
              " [('not', 'able', 'to', 'do', 'work'), 7],\n",
              " [('home', 'due', 'to', 'covid', '19'), 7],\n",
              " [('to', 'work', 'from', 'home', 'as'), 7],\n",
              " [('to', 'allow', 'employees', 'to', 'work'), 7],\n",
              " [('to', '27', '1', 'survey', 'says'), 7],\n",
              " [('their', 'employees', 'to', 'work', 'from'), 7],\n",
              " [('to', 'work', 'from', 'home', 'please'), 7],\n",
              " [('needs', 'financial', 'support', 'immediately', 'millions'), 7],\n",
              " [('will', 'be', 'jobless', 'help', 'savetourismjobs'), 7],\n",
              " [('be', 'jobless', 'help', 'savetourismjobs', 'india'), 7],\n",
              " [('how', 'are', 'we', 'supposed', 'to'), 7],\n",
              " [('to', 'work', 'from', 'home', 'india'), 7],\n",
              " [('t', 'do', 'work', 'from', 'home'), 7],\n",
              " [('jobless', 'numbers', 'cross', '120', 'million'), 7],\n",
              " [('when', 'you', 'work', 'from', 'home'), 7],\n",
              " [('due', 'to', 'lockdown', 'in', 'india'), 7],\n",
              " [('sant', 'shri', 'asharamji', 'bapu', 's'), 7],\n",
              " [('getmorewithnetgear', 'workfromhome', 'wfh', 'safety', 'security'), 7],\n",
              " [('workfromhome', 'wfh', 'safety', 'security', 'fastwifi'), 7],\n",
              " [('wfh', 'safety', 'security', 'fastwifi', 'tech'), 7],\n",
              " [('safety', 'security', 'fastwifi', 'tech', 'speed'), 7],\n",
              " [('to', 'work', 'from', 'home', 'i'), 7],\n",
              " [('have', 'to', 'work', 'from', 'home'), 7],\n",
              " [('everyone', 'is', 'working', 'from', 'home'), 7],\n",
              " [('people', 'can', 'work', 'from', 'home'), 7],\n",
              " [('ready', 'to', 'work', 'from', 'home'), 7],\n",
              " [('and', 'work', 'from', 'home', 'is'), 7],\n",
              " [('to', 'get', 'back', 'to', 'work'), 6],\n",
              " [('to', 'enforce', 'work', 'from', 'home'), 6],\n",
              " [('gdp', 'crash', 'massive', 'unemployment', 'rising'), 6],\n",
              " [('crash', 'massive', 'unemployment', 'rising', 'coronavirus'), 6],\n",
              " [('massive', 'unemployment', 'rising', 'coronavirus', 'cases'), 6],\n",
              " [('unemployment', 'rising', 'coronavirus', 'cases', 'sale'), 6],\n",
              " [('rising', 'coronavirus', 'cases', 'sale', 'of'), 6],\n",
              " [('coronavirus', 'cases', 'sale', 'of', 'profit'), 6],\n",
              " [('cases', 'sale', 'of', 'profit', 'making'), 6],\n",
              " [('sale', 'of', 'profit', 'making', 'psu'), 6],\n",
              " [('of', 'profit', 'making', 'psu', 's'), 6],\n",
              " [('profit', 'making', 'psu', 's', 'increasing'), 6],\n",
              " [('making', 'psu', 's', 'increasing', 'farmer'), 6],\n",
              " [('psu', 's', 'increasing', 'farmer', 'suicide'), 6],\n",
              " [('i', 'don', 't', 'want', 'to'), 6],\n",
              " [('to', 'work', 'from', 'home', 'due'), 6],\n",
              " [('all', 'are', 'working', 'from', 'home'), 6],\n",
              " [('work', 'from', 'home', 'with', 'this'), 6],\n",
              " [('due', 'to', 'covid', '19', 'and'), 6]]"
            ]
          },
          "metadata": {},
          "execution_count": 19
        }
      ]
    },
    {
      "cell_type": "code",
      "metadata": {
        "id": "m7kCnXzfrTKJ"
      },
      "source": [],
      "execution_count": null,
      "outputs": []
    }
  ]
}